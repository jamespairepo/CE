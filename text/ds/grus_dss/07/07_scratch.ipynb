{
 "cells": [
  {
   "cell_type": "code",
   "execution_count": 2,
   "metadata": {},
   "outputs": [],
   "source": [
    "import math"
   ]
  },
  {
   "cell_type": "code",
   "execution_count": 3,
   "metadata": {},
   "outputs": [
    {
     "name": "stdout",
     "output_type": "stream",
     "text": [
      "mu_0:  500.0\n",
      "sigma_0:  15.811388300841896\n"
     ]
    }
   ],
   "source": [
    "# normal distribution\n",
    "\n",
    "def normal_approximation_to_binomial(n, p):\n",
    "    \"\"\"finds mu and sigma corresponding to a binomial(n,p)\"\"\"\n",
    "    mu = p * n\n",
    "    sigma = math.sqrt(p * (1-p) * n)\n",
    "    return mu, sigma\n",
    "\n",
    "# mu and sigma are parameters of the normal distribution\n",
    "\n",
    "mu_0, sigma_0 = normal_approximation_to_binomial(1000, 0.50)\n",
    "print(\"mu_0: \", mu_0)\n",
    "print(\"sigma_0: \", sigma_0)\n",
    "\n",
    "# mu is the mean and sigma is the standard deviation\n",
    "# the normal distribution is approximately N(500, 15.8)\n",
    "# standard deviation is a measure of the amount of variation or dispersion of a set of values\n",
    "# standard deviation is the square root of the variance\n",
    "# standard deviation equation: sqrt(1/n * sum((x_i - x_bar)^2))"
   ]
  },
  {
   "cell_type": "code",
   "execution_count": 4,
   "metadata": {},
   "outputs": [
    {
     "ename": "NameError",
     "evalue": "name 'normal_cdf' is not defined",
     "output_type": "error",
     "traceback": [
      "\u001b[1;31m---------------------------------------------------------------------------\u001b[0m",
      "\u001b[1;31mNameError\u001b[0m                                 Traceback (most recent call last)",
      "Cell \u001b[1;32mIn[4], line 3\u001b[0m\n\u001b[0;32m      1\u001b[0m \u001b[38;5;66;03m# the normal cdf is the probability the variable is below a threshold\u001b[39;00m\n\u001b[1;32m----> 3\u001b[0m normal_probability_below \u001b[38;5;241m=\u001b[39m normal_cdf\n\u001b[0;32m      5\u001b[0m \u001b[38;5;66;03m# it's above the threshold if it's not below the threshold\u001b[39;00m\n\u001b[0;32m      6\u001b[0m \u001b[38;5;66;03m# 1 - normal_cdf\u001b[39;00m\n\u001b[0;32m      8\u001b[0m \u001b[38;5;28;01mdef\u001b[39;00m \u001b[38;5;21mnormal_probability_above\u001b[39m(lo, mu\u001b[38;5;241m=\u001b[39m\u001b[38;5;241m0\u001b[39m, sigma\u001b[38;5;241m=\u001b[39m\u001b[38;5;241m1\u001b[39m):\n",
      "\u001b[1;31mNameError\u001b[0m: name 'normal_cdf' is not defined"
     ]
    }
   ],
   "source": [
    "# the normal cdf is the probability the variable is below a threshold\n",
    "\n",
    "normal_probability_below = normal_cdf\n",
    "\n",
    "# it's above the threshold if it's not below the threshold\n",
    "# 1 - normal_cdf\n",
    "\n",
    "def normal_probability_above(lo, mu=0, sigma=1):\n",
    "    return 1 - normal_cdf(lo, mu, sigma)\n",
    "\n",
    "# it's between if it's less than hi, but not less than lo\n",
    "\n",
    "def normal_probability_between(lo, hi, mu=0, sigma=1):\n",
    "    return normal_cdf(hi, mu, sigma) - normal_cdf(lo, mu, sigma)\n",
    "\n",
    "# it's outside if it's not between\n",
    "\n",
    "def normal_probability_outside(lo, hi, mu=0, sigma=1):\n",
    "    return 1 - normal_probability_between(lo, hi, mu, sigma)"
   ]
  },
  {
   "cell_type": "code",
   "execution_count": 6,
   "metadata": {},
   "outputs": [],
   "source": [
    "# we can also do the reverse\n",
    "\n",
    "def normal_upper_bound(probability, mu=0, sigma=1):\n",
    "    \"\"\"returns the z for which P(Z <= z) = probability\"\"\"\n",
    "    return inverse_normal_cdf(probability, mu, sigma)\n",
    "\n",
    "def normal_lower_bound(probability, mu=0, sigma=1):\n",
    "    \"\"\"returns the z for which P(Z >= z) = probability\"\"\"\n",
    "    return inverse_normal_cdf(1 - probability, mu, sigma)\n",
    "\n",
    "def normal_two_sided_bounds(probability, mu=0, sigma=1):\n",
    "    \"\"\"returns the symmetric bounds that contain the specified probability\"\"\"\n",
    "    tail_probability = (1 - probability) / 2\n",
    "\n",
    "    # upper bound should have tail_probability above it\n",
    "    upper_bound = normal_lower_bound(tail_probability, mu, sigma)\n",
    "\n",
    "    # lower bound should have tail_probability below it\n",
    "    lower_bound = normal_upper_bound(tail_probability, mu, sigma)\n",
    "\n",
    "    return lower_bound, upper_bound"
   ]
  },
  {
   "cell_type": "code",
   "execution_count": 7,
   "metadata": {},
   "outputs": [
    {
     "ename": "NameError",
     "evalue": "name 'inverse_normal_cdf' is not defined",
     "output_type": "error",
     "traceback": [
      "\u001b[1;31m---------------------------------------------------------------------------\u001b[0m",
      "\u001b[1;31mNameError\u001b[0m                                 Traceback (most recent call last)",
      "Cell \u001b[1;32mIn[7], line 5\u001b[0m\n\u001b[0;32m      1\u001b[0m \u001b[38;5;66;03m# power\u001b[39;00m\n\u001b[0;32m      3\u001b[0m mu_0, sigma_0 \u001b[38;5;241m=\u001b[39m normal_approximation_to_binomial(\u001b[38;5;241m1000\u001b[39m, \u001b[38;5;241m0.5\u001b[39m)\n\u001b[1;32m----> 5\u001b[0m normal_two_sided_bounds(\u001b[38;5;241m0.95\u001b[39m, mu_0, sigma_0) \u001b[38;5;66;03m# (469, 531)\u001b[39;00m\n\u001b[0;32m      7\u001b[0m \u001b[38;5;66;03m# 95% bounds based on assumption p is 0.5\u001b[39;00m\n\u001b[0;32m      8\u001b[0m lo, hi \u001b[38;5;241m=\u001b[39m normal_two_sided_bounds(\u001b[38;5;241m0.95\u001b[39m, mu_0, sigma_0)\n",
      "Cell \u001b[1;32mIn[6], line 16\u001b[0m, in \u001b[0;36mnormal_two_sided_bounds\u001b[1;34m(probability, mu, sigma)\u001b[0m\n\u001b[0;32m     13\u001b[0m tail_probability \u001b[38;5;241m=\u001b[39m (\u001b[38;5;241m1\u001b[39m \u001b[38;5;241m-\u001b[39m probability) \u001b[38;5;241m/\u001b[39m \u001b[38;5;241m2\u001b[39m\n\u001b[0;32m     15\u001b[0m \u001b[38;5;66;03m# upper bound should have tail_probability above it\u001b[39;00m\n\u001b[1;32m---> 16\u001b[0m upper_bound \u001b[38;5;241m=\u001b[39m normal_lower_bound(tail_probability, mu, sigma)\n\u001b[0;32m     18\u001b[0m \u001b[38;5;66;03m# lower bound should have tail_probability below it\u001b[39;00m\n\u001b[0;32m     19\u001b[0m lower_bound \u001b[38;5;241m=\u001b[39m normal_upper_bound(tail_probability, mu, sigma)\n",
      "Cell \u001b[1;32mIn[6], line 9\u001b[0m, in \u001b[0;36mnormal_lower_bound\u001b[1;34m(probability, mu, sigma)\u001b[0m\n\u001b[0;32m      7\u001b[0m \u001b[38;5;28;01mdef\u001b[39;00m \u001b[38;5;21mnormal_lower_bound\u001b[39m(probability, mu\u001b[38;5;241m=\u001b[39m\u001b[38;5;241m0\u001b[39m, sigma\u001b[38;5;241m=\u001b[39m\u001b[38;5;241m1\u001b[39m):\n\u001b[0;32m      8\u001b[0m \u001b[38;5;250m    \u001b[39m\u001b[38;5;124;03m\"\"\"returns the z for which P(Z >= z) = probability\"\"\"\u001b[39;00m\n\u001b[1;32m----> 9\u001b[0m     \u001b[38;5;28;01mreturn\u001b[39;00m inverse_normal_cdf(\u001b[38;5;241m1\u001b[39m \u001b[38;5;241m-\u001b[39m probability, mu, sigma)\n",
      "\u001b[1;31mNameError\u001b[0m: name 'inverse_normal_cdf' is not defined"
     ]
    }
   ],
   "source": [
    "# power\n",
    "\n",
    "mu_0, sigma_0 = normal_approximation_to_binomial(1000, 0.5)\n",
    "\n",
    "normal_two_sided_bounds(0.95, mu_0, sigma_0) # (469, 531)\n",
    "\n",
    "# 95% bounds based on assumption p is 0.5\n",
    "lo, hi = normal_two_sided_bounds(0.95, mu_0, sigma_0)\n",
    "\n",
    "# actual mu and sigma based on p = 0.55\n",
    "mu_1, sigma_1 = normal_approximation_to_binomial(1000, 0.55)\n",
    "\n",
    "# a type 2 error means we fail to reject the null hypothesis\n",
    "# which will happen when X is still in our original interval\n",
    "type_2_probability = normal_probability_between(lo, hi, mu_1, sigma_1)\n",
    "power = 1 - type_2_probability # 0.887\n",
    "\n",
    "# one-sided test\n",
    "hi = normal_upper_bound(0.95, mu_0, sigma_0) # 526\n",
    "\n",
    "# is 526 greater than 525?\n",
    "type_2_probability = normal_probability_below(hi, mu_1, sigma_1)\n",
    "power = 1 - type_2_probability # 0.936\n",
    "\n"
   ]
  },
  {
   "cell_type": "code",
   "execution_count": 8,
   "metadata": {},
   "outputs": [
    {
     "ename": "NameError",
     "evalue": "name 'normal_probability_above' is not defined",
     "output_type": "error",
     "traceback": [
      "\u001b[1;31m---------------------------------------------------------------------------\u001b[0m",
      "\u001b[1;31mNameError\u001b[0m                                 Traceback (most recent call last)",
      "Cell \u001b[1;32mIn[8], line 10\u001b[0m\n\u001b[0;32m      7\u001b[0m         \u001b[38;5;28;01mreturn\u001b[39;00m \u001b[38;5;241m2\u001b[39m \u001b[38;5;241m*\u001b[39m normal_probability_below(x, mu, sigma)\n\u001b[0;32m      9\u001b[0m \u001b[38;5;66;03m# if we were to see 530 heads, we would compute\u001b[39;00m\n\u001b[1;32m---> 10\u001b[0m two_sided_p_value(\u001b[38;5;241m529.5\u001b[39m, mu_0, sigma_0)\n",
      "Cell \u001b[1;32mIn[8], line 4\u001b[0m, in \u001b[0;36mtwo_sided_p_value\u001b[1;34m(x, mu, sigma)\u001b[0m\n\u001b[0;32m      1\u001b[0m \u001b[38;5;28;01mdef\u001b[39;00m \u001b[38;5;21mtwo_sided_p_value\u001b[39m(x, mu\u001b[38;5;241m=\u001b[39m\u001b[38;5;241m0\u001b[39m, sigma\u001b[38;5;241m=\u001b[39m\u001b[38;5;241m1\u001b[39m):\n\u001b[0;32m      2\u001b[0m     \u001b[38;5;28;01mif\u001b[39;00m x \u001b[38;5;241m>\u001b[39m\u001b[38;5;241m=\u001b[39m mu:\n\u001b[0;32m      3\u001b[0m         \u001b[38;5;66;03m# if x is greater than the mean, the tail is what's greater than x\u001b[39;00m\n\u001b[1;32m----> 4\u001b[0m         \u001b[38;5;28;01mreturn\u001b[39;00m \u001b[38;5;241m2\u001b[39m \u001b[38;5;241m*\u001b[39m normal_probability_above(x, mu, sigma)\n\u001b[0;32m      5\u001b[0m     \u001b[38;5;28;01melse\u001b[39;00m:\n\u001b[0;32m      6\u001b[0m         \u001b[38;5;66;03m# if x is less than the mean, the tail is what's less than x\u001b[39;00m\n\u001b[0;32m      7\u001b[0m         \u001b[38;5;28;01mreturn\u001b[39;00m \u001b[38;5;241m2\u001b[39m \u001b[38;5;241m*\u001b[39m normal_probability_below(x, mu, sigma)\n",
      "\u001b[1;31mNameError\u001b[0m: name 'normal_probability_above' is not defined"
     ]
    }
   ],
   "source": [
    "def two_sided_p_value(x, mu=0, sigma=1):\n",
    "    if x >= mu:\n",
    "        # if x is greater than the mean, the tail is what's greater than x\n",
    "        return 2 * normal_probability_above(x, mu, sigma)\n",
    "    else:\n",
    "        # if x is less than the mean, the tail is what's less than x\n",
    "        return 2 * normal_probability_below(x, mu, sigma)\n",
    "    \n",
    "# if we were to see 530 heads, we would compute\n",
    "two_sided_p_value(529.5, mu_0, sigma_0) # 0.062\n"
   ]
  },
  {
   "cell_type": "code",
   "execution_count": 9,
   "metadata": {},
   "outputs": [
    {
     "name": "stdout",
     "output_type": "stream",
     "text": [
      "0.06235\n"
     ]
    }
   ],
   "source": [
    "import random\n",
    "\n",
    "extreme_value_count = 0\n",
    "for _ in range(100000):\n",
    "    num_heads = sum(1 if random.random() < 0.5 else 0 # count # of heads\n",
    "        for _ in range(1000)) # in 1000 flips\n",
    "    if num_heads >= 530 or num_heads <= 470: # and count how often\n",
    "        extreme_value_count += 1 # the # is extreme\n",
    "\n",
    "print(extreme_value_count / 100000) # 0.062"
   ]
  },
  {
   "cell_type": "code",
   "execution_count": null,
   "metadata": {},
   "outputs": [],
   "source": [
    "two_sided_p_value(531.5, mu_0, sigma_0) # 0.0463"
   ]
  }
 ],
 "metadata": {
  "kernelspec": {
   "display_name": "base",
   "language": "python",
   "name": "python3"
  },
  "language_info": {
   "codemirror_mode": {
    "name": "ipython",
    "version": 3
   },
   "file_extension": ".py",
   "mimetype": "text/x-python",
   "name": "python",
   "nbconvert_exporter": "python",
   "pygments_lexer": "ipython3",
   "version": "3.11.5"
  }
 },
 "nbformat": 4,
 "nbformat_minor": 2
}
