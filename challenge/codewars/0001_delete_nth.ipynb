{
 "cells": [
  {
   "cell_type": "code",
   "execution_count": null,
   "metadata": {},
   "outputs": [],
   "source": [
    "# test.assert_equals(\n",
    "#     delete_nth([1, 1, 3, 3, 7, 2, 2, 2, 2], 3),\n",
    "#     [1, 1, 3, 3, 7, 2, 2, 2],\n",
    "#     \"From list [1, 1, 3, 3, 7, 2, 2, 2, 2], 3 you get\",b"
   ]
  },
  {
   "cell_type": "code",
   "execution_count": 19,
   "metadata": {},
   "outputs": [
    {
     "name": "stdout",
     "output_type": "stream",
     "text": [
      "[20, 37, 21]\n"
     ]
    }
   ],
   "source": [
    "def delete_nth(order, max_e):\n",
    "    finallist = []\n",
    "    for num in order:\n",
    "        if finallist.count(num) < max_e:\n",
    "            finallist.append(num)\n",
    "    return finallist\n",
    "\n",
    "print(delete_nth([20, 37, 20, 21], 1))"
   ]
  }
 ],
 "metadata": {
  "kernelspec": {
   "display_name": "base",
   "language": "python",
   "name": "python3"
  },
  "language_info": {
   "codemirror_mode": {
    "name": "ipython",
    "version": 3
   },
   "file_extension": ".py",
   "mimetype": "text/x-python",
   "name": "python",
   "nbconvert_exporter": "python",
   "pygments_lexer": "ipython3",
   "version": "3.11.5"
  }
 },
 "nbformat": 4,
 "nbformat_minor": 2
}
