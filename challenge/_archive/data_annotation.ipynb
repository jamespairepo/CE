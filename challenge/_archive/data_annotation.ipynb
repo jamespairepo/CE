{
 "cells": [
  {
   "cell_type": "code",
   "execution_count": null,
   "metadata": {},
   "outputs": [],
   "source": [
    "def decode(message_file):\n",
    "    # Read the lines from the file\n",
    "    with open(message_file, 'r') as file:\n",
    "        lines = file.readlines()\n",
    "\n",
    "        linelist = []\n",
    "\n",
    "        for line in lines:\n",
    "            linelist.append(line.strip())  # Strip each line to remove leading/trailing whitespaces\n",
    "\n",
    "        line_list = []\n",
    "        for item in linelist:\n",
    "            num, text = item.split(' ', 1)  # Split at the first space\n",
    "            line_list.append((int(num), text))  # Append tuple of (number, text)\n",
    "\n",
    "        result = []\n",
    "        current = 1\n",
    "        increment = 2\n",
    "        while current <= 300:\n",
    "            result.append(current)\n",
    "            current += increment\n",
    "            increment += 1\n",
    "\n",
    "        decoded = []\n",
    "        for num in result:\n",
    "            for item in line_list:\n",
    "                if item[0] == num:\n",
    "                    decoded.append(item[1])  # Append corresponding text\n",
    "                    break\n",
    "\n",
    "        return decoded\n",
    "\n",
    "\n",
    "# Example usage\n",
    "message_file = './data_annotation_encoded_message.txt'\n",
    "decoded_message = decode(message_file)\n",
    "print(decoded_message)"
   ]
  }
 ],
 "metadata": {
  "language_info": {
   "name": "python"
  }
 },
 "nbformat": 4,
 "nbformat_minor": 2
}
