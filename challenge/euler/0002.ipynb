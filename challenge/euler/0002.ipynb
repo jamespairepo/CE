{
 "cells": [
  {
   "cell_type": "code",
   "execution_count": 6,
   "metadata": {},
   "outputs": [
    {
     "name": "stdout",
     "output_type": "stream",
     "text": [
      "nextf:  3\n",
      "nextf:  5\n",
      "nextf:  8\n",
      "nextf:  13\n",
      "nextf:  21\n",
      "nextf:  34\n",
      "nextf:  55\n",
      "nextf:  89\n",
      "nextf:  144\n",
      "nextf:  233\n",
      "nextf:  377\n",
      "nextf:  610\n",
      "nextf:  987\n",
      "nextf:  1597\n",
      "nextf:  2584\n",
      "nextf:  4181\n",
      "nextf:  6765\n",
      "nextf:  10946\n",
      "nextf:  17711\n",
      "nextf:  28657\n",
      "nextf:  46368\n",
      "nextf:  75025\n",
      "nextf:  121393\n",
      "nextf:  196418\n",
      "nextf:  317811\n",
      "nextf:  514229\n",
      "nextf:  832040\n",
      "nextf:  1346269\n",
      "nextf:  2178309\n",
      "nextf:  3524578\n",
      "nextf:  5702887\n",
      "4613732\n"
     ]
    }
   ],
   "source": [
    "fibonacci = [1,2]\n",
    "\n",
    "i = 0 \n",
    "sum = 0\n",
    "\n",
    "while i < (4000000-2):\n",
    "    nextf = fibonacci[i] + fibonacci[i+1]\n",
    "    print('nextf: ', nextf)\n",
    "    if nextf > 4000000:\n",
    "        break\n",
    "    fibonacci.append(nextf)\n",
    "    if nextf % 2 == 0:\n",
    "        sum += nextf\n",
    "    i += 1\n",
    "    # print(sum)\n",
    "print(sum+2)"
   ]
  }
 ],
 "metadata": {
  "kernelspec": {
   "display_name": "base",
   "language": "python",
   "name": "python3"
  },
  "language_info": {
   "codemirror_mode": {
    "name": "ipython",
    "version": 3
   },
   "file_extension": ".py",
   "mimetype": "text/x-python",
   "name": "python",
   "nbconvert_exporter": "python",
   "pygments_lexer": "ipython3",
   "version": "3.11.5"
  }
 },
 "nbformat": 4,
 "nbformat_minor": 2
}
