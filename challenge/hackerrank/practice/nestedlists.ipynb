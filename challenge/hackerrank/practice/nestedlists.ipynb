{
 "cells": [
  {
   "cell_type": "code",
   "execution_count": 22,
   "metadata": {},
   "outputs": [
    {
     "name": "stdout",
     "output_type": "stream",
     "text": [
      "{'Tina': 37.2, 'Harry': 37.21, 'Berry': 37.21, 'Harsh': 39, 'Akriti': 41}\n",
      "37.2\n",
      "{'Harry': 37.21, 'Berry': 37.21, 'Akriti': 41, 'Harsh': 39}\n",
      "['Harry', 'Berry']\n"
     ]
    }
   ],
   "source": [
    "def lowestgrades():\n",
    "    d = {\n",
    "        'Harry': 37.21,\n",
    "        'Berry': 37.21,\n",
    "        'Tina': 37.2,\n",
    "        'Akriti': 41,\n",
    "        'Harsh': 39\n",
    "    }\n",
    "\n",
    "    ranked = dict(sorted(d.items(), key=lambda x: x[1]))\n",
    "    print(ranked)\n",
    "    lowest = list(ranked.values())[0]\n",
    "    print(lowest)\n",
    "    newd = {k: v for k, v in d.items() if v != lowest}\n",
    "    print(newd)\n",
    "    lowest = list(newd.keys())[:2]\n",
    "    print(lowest)\n",
    "    \n",
    "lowestgrades()\n"
   ]
  },
  {
   "cell_type": "code",
   "execution_count": null,
   "metadata": {},
   "outputs": [],
   "source": [
    "def lowestgrades():\n",
    "    d={}\n",
    "    for _ in range(int(input())):\n",
    "        name = input()\n",
    "        score = float(input())\n",
    "        d[name]=score\n",
    "    sorted_grades=sorted(d.values())\n",
    "    # print(next(d.values()))\n",
    "    \n",
    "    \n",
    "    ranked = dict(sorted(d.items(), key=lambda x: x[1]))\n",
    "    # print(ranked)\n",
    "    lowest = list(ranked.values())[0]\n",
    "    # print(lowest)\n",
    "    newd = {k: v for k, v in d.items() if v != lowest}\n",
    "    # print(newd)\n",
    "    lowest = list(newd.keys())[:2]\n",
    "    print(lowest)\n",
    "    \n",
    "lowestgrades()"
   ]
  }
 ],
 "metadata": {
  "kernelspec": {
   "display_name": "base",
   "language": "python",
   "name": "python3"
  },
  "language_info": {
   "codemirror_mode": {
    "name": "ipython",
    "version": 3
   },
   "file_extension": ".py",
   "mimetype": "text/x-python",
   "name": "python",
   "nbconvert_exporter": "python",
   "pygments_lexer": "ipython3",
   "version": "3.11.5"
  }
 },
 "nbformat": 4,
 "nbformat_minor": 2
}
