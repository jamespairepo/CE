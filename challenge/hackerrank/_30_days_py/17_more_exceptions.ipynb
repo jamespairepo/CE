{
 "cells": [
  {
   "cell_type": "code",
   "execution_count": 1,
   "metadata": {},
   "outputs": [
    {
     "ename": "",
     "evalue": "",
     "output_type": "error",
     "traceback": [
      "\u001b[1;31mThe Kernel crashed while executing code in the current cell or a previous cell. \n",
      "\u001b[1;31mPlease review the code in the cell(s) to identify a possible cause of the failure. \n",
      "\u001b[1;31mClick <a href='https://aka.ms/vscodeJupyterKernelCrash'>here</a> for more info. \n",
      "\u001b[1;31mView Jupyter <a href='command:jupyter.viewOutput'>log</a> for further details."
     ]
    }
   ],
   "source": [
    "class Calculator:\n",
    "    def power(self, n, p):\n",
    "        '''Checks whether n or p are negative'''\n",
    "        if n < 0 or p < 0:\n",
    "            raise Exception(\"n and p should be non-negative\")\n",
    "        else:\n",
    "            return n**p\n",
    "\n",
    "myCalculator = Calculator()\n",
    "T = int(input())\n",
    "\n",
    "for i in range(T):\n",
    "    n, p = map(int, input().split())\n",
    "    try:\n",
    "        ans = myCalculator.power(n, p)\n",
    "        print(ans)\n",
    "    except Exception as e:\n",
    "        print(e)\n",
    "\n",
    "# Sample Input\n",
    "# 4\n",
    "# 3 5\n",
    "# 2 4\n",
    "# -1 -2\n",
    "# -1 3\n",
    "# Sample Output\n",
    "# 243\n",
    "# 16\n",
    "# n and p should be non-negative"
   ]
  }
 ],
 "metadata": {
  "kernelspec": {
   "display_name": "Python 3",
   "language": "python",
   "name": "python3"
  },
  "language_info": {
   "codemirror_mode": {
    "name": "ipython",
    "version": 3
   },
   "file_extension": ".py",
   "mimetype": "text/x-python",
   "name": "python",
   "nbconvert_exporter": "python",
   "pygments_lexer": "ipython3",
   "version": "3.11.2"
  }
 },
 "nbformat": 4,
 "nbformat_minor": 2
}
