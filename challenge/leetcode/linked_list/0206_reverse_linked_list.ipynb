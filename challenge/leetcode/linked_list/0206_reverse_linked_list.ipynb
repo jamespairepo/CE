{
 "cells": [
  {
   "cell_type": "code",
   "execution_count": 2,
   "metadata": {},
   "outputs": [
    {
     "name": "stdout",
     "output_type": "stream",
     "text": [
      "[5, 4, 3, 2, 1]\n"
     ]
    }
   ],
   "source": [
    "from typing import Optional\n",
    "\n",
    "# Definition for singly-linked list.\n",
    "class ListNode:\n",
    "    def __init__(self, val=0, next=None):\n",
    "        self.val = val\n",
    "        self.next = next\n",
    "\n",
    "class Solution:\n",
    "    def reverseList(self, head: Optional[ListNode]) -> Optional[ListNode]:\n",
    "        prev = None\n",
    "        curr = head\n",
    "        while curr:\n",
    "            next_node = curr.next  # Save the next node\n",
    "            curr.next = prev       # Reverse the link\n",
    "            prev = curr            # Move prev to the current node\n",
    "            curr = next_node       # Move to the next node\n",
    "        return prev\n",
    "\n",
    "# Helper function to convert list to ListNode\n",
    "def list_to_linkedlist(items):\n",
    "    dummy = ListNode(0)\n",
    "    current = dummy\n",
    "    for item in items:\n",
    "        current.next = ListNode(item)\n",
    "        current = current.next\n",
    "    return dummy.next\n",
    "\n",
    "# Helper function to convert ListNode to list\n",
    "def linkedlist_to_list(node):\n",
    "    result = []\n",
    "    while node:\n",
    "        result.append(node.val)\n",
    "        node = node.next\n",
    "    return result\n",
    "\n",
    "sol = Solution()\n",
    "\n",
    "head = list_to_linkedlist([1, 2, 3, 4, 5])\n",
    "reversed_head = sol.reverseList(head)\n",
    "print(linkedlist_to_list(reversed_head))  # output: [5, 4, 3, 2, 1]\n",
    "\n",
    "# Explanation:\n",
    "\n",
    "# ListNode Class: A class to represent a node in a singly linked list.\n",
    "# reverseList Method: Reverses the linked list by iterating through the nodes and reversing the pointers.\n",
    "# Helper Functions:\n",
    "# list_to_linkedlist: Converts a list to a linked list.\n",
    "# linkedlist_to_list: Converts a linked list back to a list for easy verification of the result.\n",
    "# Test Case:\n",
    "# Converts a list [1, 2, 3, 4, 5] to a linked list.\n",
    "# Reverses the linked list.\n",
    "# Converts the reversed linked list back to a list to print [5, 4, 3, 2, 1].\n",
    "# This approach ensures the linked list is reversed correctly by manipulating the next pointers of each node.\n"
   ]
  }
 ],
 "metadata": {
  "kernelspec": {
   "display_name": "Python 3",
   "language": "python",
   "name": "python3"
  },
  "language_info": {
   "codemirror_mode": {
    "name": "ipython",
    "version": 3
   },
   "file_extension": ".py",
   "mimetype": "text/x-python",
   "name": "python",
   "nbconvert_exporter": "python",
   "pygments_lexer": "ipython3",
   "version": "3.11.8"
  }
 },
 "nbformat": 4,
 "nbformat_minor": 2
}
