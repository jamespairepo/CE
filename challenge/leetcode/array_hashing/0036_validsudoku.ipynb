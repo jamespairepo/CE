{
 "cells": [
  {
   "cell_type": "code",
   "execution_count": 1,
   "metadata": {},
   "outputs": [],
   "source": [
    "from typing import List\n",
    "\n",
    "class Solution:\n",
    "    def isValidSudoku(self, board: List[List[str]]) -> bool:\n",
    "        rows = [set() for _ in range(9)]\n",
    "        cols = [set() for _ in range(9)]\n",
    "        squares = [set() for _ in range(9)]\n",
    "        for i in range(9):\n",
    "            for j in range(9):\n",
    "                if board[i][j] == '.':\n",
    "                    continue\n",
    "                if board[i][j] in rows[i] or board[i][j] in cols[j] or board[i][j] in squares[i//3*3+j//3]:\n",
    "                    return False\n",
    "                rows[i].add(board[i][j])\n",
    "                cols[j].add(board[i][j])\n",
    "                squares[i//3*3+j//3].add(board[i][j])\n",
    "        return True"
   ]
  },
  {
   "cell_type": "code",
   "execution_count": null,
   "metadata": {},
   "outputs": [],
   "source": [
    "# Input: board = \n",
    "# [[\"5\",\"3\",\".\",\".\",\"7\",\".\",\".\",\".\",\".\"]\n",
    "# ,[\"6\",\".\",\".\",\"1\",\"9\",\"5\",\".\",\".\",\".\"]\n",
    "# ,[\".\",\"9\",\"8\",\".\",\".\",\".\",\".\",\"6\",\".\"]\n",
    "# ,[\"8\",\".\",\".\",\".\",\"6\",\".\",\".\",\".\",\"3\"]\n",
    "# ,[\"4\",\".\",\".\",\"8\",\".\",\"3\",\".\",\".\",\"1\"]\n",
    "# ,[\"7\",\".\",\".\",\".\",\"2\",\".\",\".\",\".\",\"6\"]\n",
    "# ,[\".\",\"6\",\".\",\".\",\".\",\".\",\"2\",\"8\",\".\"]\n",
    "# ,[\".\",\".\",\".\",\"4\",\"1\",\"9\",\".\",\".\",\"5\"]\n",
    "# ,[\".\",\".\",\".\",\".\",\"8\",\".\",\".\",\"7\",\"9\"]]\n",
    "# Output: true\n",
    "# Example 2:\n",
    "\n",
    "# Input: board = \n",
    "# [[\"8\",\"3\",\".\",\".\",\"7\",\".\",\".\",\".\",\".\"]\n",
    "# ,[\"6\",\".\",\".\",\"1\",\"9\",\"5\",\".\",\".\",\".\"]\n",
    "# ,[\".\",\"9\",\"8\",\".\",\".\",\".\",\".\",\"6\",\".\"]\n",
    "# ,[\"8\",\".\",\".\",\".\",\"6\",\".\",\".\",\".\",\"3\"]\n",
    "# ,[\"4\",\".\",\".\",\"8\",\".\",\"3\",\".\",\".\",\"1\"]\n",
    "# ,[\"7\",\".\",\".\",\".\",\"2\",\".\",\".\",\".\",\"6\"]\n",
    "# ,[\".\",\"6\",\".\",\".\",\".\",\".\",\"2\",\"8\",\".\"]\n",
    "# ,[\".\",\".\",\".\",\"4\",\"1\",\"9\",\".\",\".\",\"5\"]\n",
    "# ,[\".\",\".\",\".\",\".\",\"8\",\".\",\".\",\"7\",\"9\"]]\n",
    "# Output: false\n",
    "# Explanation: Same as Example 1, except with the 5 in the top left corner being modified to 8. Since there are two 8's in the top left 3x3 sub-box, it is invalid."
   ]
  },
  {
   "cell_type": "code",
   "execution_count": null,
   "metadata": {},
   "outputs": [],
   "source": [
    "# This function checks if a given Sudoku board is valid. Here's a line-by-line explanation:\n",
    "\n",
    "# 1. `def isValidSudoku(self, board: List[List[str]]) -> bool:` - This defines a method called `isValidSudoku` that takes `self` (indicating it's a method of a class) and a 2D list of strings `board`, and returns a boolean indicating whether the board is valid.\n",
    "\n",
    "# 2. `rows = [set() for _ in range(9)]` - This creates a list `rows` with 9 empty sets, one for each row of the Sudoku board. These sets will be used to keep track of the numbers seen in each row.\n",
    "\n",
    "# 3. `cols = [set() for _ in range(9)]` - This creates a list `cols` with 9 empty sets, one for each column of the Sudoku board. These sets will be used to keep track of the numbers seen in each column.\n",
    "\n",
    "# 4. `squares = [set() for _ in range(9)]` - This creates a list `squares` with 9 empty sets, one for each 3x3 square of the Sudoku board. These sets will be used to keep track of the numbers seen in each square.\n",
    "\n",
    "# 5. `for i in range(9):` - This starts a loop over the rows of the Sudoku board.\n",
    "\n",
    "# 6. `for j in range(9):` - This starts a loop over the columns of the Sudoku board.\n",
    "\n",
    "# 7. `if board[i][j] == '.':` - This checks if the current cell is empty (represented by a period `'.'`). If it is, the loop continues to the next iteration, skipping the rest of the code for this cell.\n",
    "\n",
    "# 8. `if board[i][j] in rows[i] or board[i][j] in cols[j] or board[i][j] in squares[i//3*3+j//3]:` - This checks if the current number in the cell is already present in the corresponding row, column, or square. If it is, the board is invalid, and the function returns `False`.\n",
    "\n",
    "# 9. `rows[i].add(board[i][j])` - If the number is not already present, it is added to the set for the current row.\n",
    "\n",
    "# 10. `cols[j].add(board[i][j])` - Similarly, the number is added to the set for the current column.\n",
    "\n",
    "# 11. `squares[i//3*3+j//3].add(board[i][j])` - The number is added to the set for the current 3x3 square. The expression `i//3*3+j//3` calculates the index of the square based on the current row and column.\n",
    "\n",
    "# 12. `return True` - If the loops complete without finding any conflicts, the function returns `True`, indicating that the Sudoku board is valid.\n",
    "\n",
    "# This function efficiently checks each cell of the Sudoku board once, ensuring that all rows, columns, and 3x3 squares contain only unique numbers (excluding periods representing empty cells), as required for a valid Sudoku solution."
   ]
  }
 ],
 "metadata": {
  "kernelspec": {
   "display_name": "base",
   "language": "python",
   "name": "python3"
  },
  "language_info": {
   "codemirror_mode": {
    "name": "ipython",
    "version": 3
   },
   "file_extension": ".py",
   "mimetype": "text/x-python",
   "name": "python",
   "nbconvert_exporter": "python",
   "pygments_lexer": "ipython3",
   "version": "3.11.5"
  }
 },
 "nbformat": 4,
 "nbformat_minor": 2
}
