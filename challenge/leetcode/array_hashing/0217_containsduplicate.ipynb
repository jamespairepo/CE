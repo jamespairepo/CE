{
 "cells": [
  {
   "cell_type": "code",
   "execution_count": 13,
   "metadata": {},
   "outputs": [
    {
     "name": "stdout",
     "output_type": "stream",
     "text": [
      "True\n"
     ]
    }
   ],
   "source": [
    "class Solution:\n",
    "    def containsDuplicate(self, nums: list[int]) -> bool:\n",
    "        duplicate = set()\n",
    "        for i in nums:\n",
    "            if i in duplicate:\n",
    "                return True\n",
    "            duplicate.add(i)\n",
    "        return False\n",
    "\n",
    "nums = [1,2,3,1]\n",
    "sol = Solution()\n",
    "print(sol.containsDuplicate(nums))"
   ]
  },
  {
   "cell_type": "code",
   "execution_count": 1,
   "metadata": {},
   "outputs": [
    {
     "name": "stdout",
     "output_type": "stream",
     "text": [
      "True\n"
     ]
    }
   ],
   "source": [
    "class Solution:\n",
    "    def containsDuplicate(self, nums: list[int]) -> bool:\n",
    "        for i in nums:\n",
    "            if nums.count(i) >= 2:\n",
    "                return True\n",
    "\n",
    "nums = [1,2,3,1]\n",
    "sol = Solution()\n",
    "print(sol.containsDuplicate(nums))"
   ]
  },
  {
   "cell_type": "code",
   "execution_count": 3,
   "metadata": {},
   "outputs": [
    {
     "name": "stdout",
     "output_type": "stream",
     "text": [
      "True\n",
      "False\n"
     ]
    }
   ],
   "source": [
    "class Solution:\n",
    "    def hasDuplicate(self, nums: List[int]) -> bool:\n",
    "        seen = set()\n",
    "        for num in nums:\n",
    "            if num in seen:\n",
    "                return True\n",
    "            seen.add(num)\n",
    "        return False\n",
    "\n",
    "# # Example 1\n",
    "# nums1 = [1, 2, 3, 3]\n",
    "# print(containsDuplicate(nums1))  # Output: true\n",
    "\n",
    "# # Example 2\n",
    "# nums2 = [1, 2, 3, 4]\n",
    "# print(containsDuplicate(nums2))  # Output: false\n",
    "\n",
    "# Explanation:\n",
    "# Set Initialization: Initialize an empty set seen to keep track of elements we have encountered.\n",
    "# Iteration and Check: Iterate through each element num in the array nums.\n",
    "# If num is already in the set seen, return true since a duplicate is found.\n",
    "# If num is not in the set, add it to the set.\n",
    "# No Duplicates Found: If the loop completes without finding any duplicates, return false.\n",
    "\n",
    "# This approach ensures that you efficiently check for duplicates in the array with an average time complexity of O(n), where n is the number of elements in the array. The space complexity is also O(n) in the worst case, due to the additional storage used by the set."
   ]
  }
 ],
 "metadata": {
  "kernelspec": {
   "display_name": "Python 3",
   "language": "python",
   "name": "python3"
  },
  "language_info": {
   "codemirror_mode": {
    "name": "ipython",
    "version": 3
   },
   "file_extension": ".py",
   "mimetype": "text/x-python",
   "name": "python",
   "nbconvert_exporter": "python",
   "pygments_lexer": "ipython3",
   "version": "3.11.8"
  }
 },
 "nbformat": 4,
 "nbformat_minor": 2
}
