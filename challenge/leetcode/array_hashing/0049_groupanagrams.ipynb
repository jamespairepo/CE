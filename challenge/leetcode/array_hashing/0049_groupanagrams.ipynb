{
 "cells": [
  {
   "cell_type": "code",
   "execution_count": 1,
   "metadata": {},
   "outputs": [],
   "source": [
    "# Given an array of strings strs, group the anagrams together. You can return the answer in any order.\n",
    "\n",
    "# An Anagram is a word or phrase formed by rearranging the letters of a different word or phrase, typically using all the original letters exactly once.\n",
    "\n",
    " \n",
    "\n",
    "# Example 1:\n",
    "\n",
    "# Input: strs = [\"eat\",\"tea\",\"tan\",\"ate\",\"nat\",\"bat\"]\n",
    "# Output: [[\"bat\"],[\"nat\",\"tan\"],[\"ate\",\"eat\",\"tea\"]]\n",
    "# Example 2:\n",
    "\n",
    "# Input: strs = [\"\"]\n",
    "# Output: [[\"\"]]\n",
    "# Example 3:\n",
    "\n",
    "# Input: strs = [\"a\"]\n",
    "# Output: [[\"a\"]]"
   ]
  },
  {
   "cell_type": "code",
   "execution_count": 6,
   "metadata": {},
   "outputs": [
    {
     "name": "stdout",
     "output_type": "stream",
     "text": [
      "[['eat', 'tea', 'ate'], ['tan', 'nat'], ['bat']]\n"
     ]
    }
   ],
   "source": [
    "from typing import List\n",
    "\n",
    "class Solution:\n",
    "    def groupAnagrams(self, strs: List[str]) -> List[List[str]]:\n",
    "        anagrams = {}\n",
    "        for s in strs:\n",
    "            key = ''.join(sorted(s))\n",
    "            if key not in anagrams:\n",
    "                anagrams[key] = [s]\n",
    "            else:\n",
    "                anagrams[key].append(s)\n",
    "        return list(anagrams.values())\n",
    "    \n",
    "\n",
    "s = Solution()\n",
    "strs = [\"eat\",\"tea\",\"tan\",\"ate\",\"nat\",\"bat\"]\n",
    "print(s.groupAnagrams(strs))"
   ]
  },
  {
   "cell_type": "code",
   "execution_count": null,
   "metadata": {},
   "outputs": [],
   "source": [
    "# For example, if s = \"eat\", then sorted(s) would be ['a', 'e', 't'], and ''.join(sorted(s)) would result in 'aet', which is the sorted version of the original string 'eat'."
   ]
  }
 ],
 "metadata": {
  "kernelspec": {
   "display_name": "base",
   "language": "python",
   "name": "python3"
  },
  "language_info": {
   "codemirror_mode": {
    "name": "ipython",
    "version": 3
   },
   "file_extension": ".py",
   "mimetype": "text/x-python",
   "name": "python",
   "nbconvert_exporter": "python",
   "pygments_lexer": "ipython3",
   "version": "3.11.5"
  }
 },
 "nbformat": 4,
 "nbformat_minor": 2
}
