{
 "cells": [
  {
   "cell_type": "code",
   "execution_count": 24,
   "metadata": {},
   "outputs": [
    {
     "name": "stdout",
     "output_type": "stream",
     "text": [
      "7\n"
     ]
    }
   ],
   "source": [
    "from typing import List\n",
    "\n",
    "class Solution:\n",
    "    def longestConsecutive(self, nums: List[int]) -> int:\n",
    "        nums = set(nums)\n",
    "        max_len = 0\n",
    "        for num in nums:\n",
    "            if num - 1 not in nums:\n",
    "                cur_num = num\n",
    "                cur_len = 1\n",
    "                while cur_num + 1 in nums:\n",
    "                    cur_num += 1\n",
    "                    cur_len += 1\n",
    "                max_len = max(max_len, cur_len)\n",
    "        return max_len\n",
    "\n",
    "\n",
    "\n",
    "nums = [100, 4, 200, 1, 3, 2,2,5,-1,0]\n",
    "sol = Solution()\n",
    "print(sol.longestConsecutive(nums))"
   ]
  },
  {
   "cell_type": "code",
   "execution_count": 27,
   "metadata": {},
   "outputs": [
    {
     "name": "stdout",
     "output_type": "stream",
     "text": [
      "7\n"
     ]
    }
   ],
   "source": [
    "from typing import List\n",
    "\n",
    "class Solution:\n",
    "    def longestConsecutive(self, nums: List[int]) -> int:\n",
    "        nums = set(nums)\n",
    "        max_len = 0\n",
    "        for num in nums:\n",
    "            if num + 1 not in nums:\n",
    "                cur_num = num\n",
    "                cur_len = 1\n",
    "                while cur_num - 1 in nums:\n",
    "                    cur_num -= 1\n",
    "                    cur_len += 1\n",
    "                max_len = max(max_len, cur_len)\n",
    "        return max_len\n",
    "\n",
    "\n",
    "\n",
    "nums = [100, 4, 200, 1, 3, 2,2,5,-1,0]\n",
    "sol = Solution()\n",
    "print(sol.longestConsecutive(nums))"
   ]
  }
 ],
 "metadata": {
  "kernelspec": {
   "display_name": "base",
   "language": "python",
   "name": "python3"
  },
  "language_info": {
   "codemirror_mode": {
    "name": "ipython",
    "version": 3
   },
   "file_extension": ".py",
   "mimetype": "text/x-python",
   "name": "python",
   "nbconvert_exporter": "python",
   "pygments_lexer": "ipython3",
   "version": "3.11.5"
  }
 },
 "nbformat": 4,
 "nbformat_minor": 2
}
