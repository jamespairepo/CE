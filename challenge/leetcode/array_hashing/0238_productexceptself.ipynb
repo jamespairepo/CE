{
 "cells": [
  {
   "cell_type": "code",
   "execution_count": null,
   "metadata": {},
   "outputs": [],
   "source": [
    "# Leetcode 238. Product of Array Except Self. Array and Hashing. \n",
    "\n",
    "from typing import List\n",
    "\n",
    "class Solution:\n",
    "\n",
    "    def product(arr):\n",
    "        product = 1\n",
    "        for i in arr:\n",
    "            product *= i\n",
    "        return product\n",
    "    \n",
    "    def productExceptSelf(self, nums: List[int]) -> List[int]:\n",
    "        answer = []\n",
    "        for i in range(len(nums)-1):\n",
    "            temp = nums # SEE COMMENTS \n",
    "            print(temp)\n",
    "            temp.pop(i)\n",
    "            print(temp)\n",
    "            answer.append(self.product(temp))\n",
    "        return answer\n",
    "        \n",
    "\n",
    "s = Solution()\n",
    "\n",
    "print(s.productExceptSelf([1,2,3,4])) # [24,12,8,6]\n",
    "print(s.productExceptSelf([-1,1,0,-3,3])) # [0,0,9,0,0]\n",
    "print(s.productExceptSelf([1,0])) # [0,1]\n",
    "print(s.productExceptSelf([0,1])) # [1,0]\n",
    "print(s.productExceptSelf([0,0])) # [0,0]\n",
    "\n"
   ]
  },
  {
   "cell_type": "code",
   "execution_count": null,
   "metadata": {},
   "outputs": [],
   "source": [
    "# The issue with your code lies in how you're creating a temporary copy of the nums list. In Python, when you do temp = nums, you're not creating a new copy of nums. Instead, temp becomes another reference to the same list object. So, when you modify temp by popping an element, you're also modifying the original nums list, which is not what you want.\n",
    "\n",
    "# To fix this, you should create a copy of the list using temp = nums.copy() or temp = list(nums). "
   ]
  },
  {
   "cell_type": "code",
   "execution_count": 11,
   "metadata": {},
   "outputs": [
    {
     "name": "stdout",
     "output_type": "stream",
     "text": [
      "[24, 12, 8, 6]\n",
      "[0, 0, 9, 0, 0]\n",
      "[0, 1]\n",
      "[1, 0]\n",
      "[0, 0]\n"
     ]
    }
   ],
   "source": [
    "# Leetcode 238. Product of Array Except Self. Array and Hashing. \n",
    "\n",
    "from typing import List\n",
    "\n",
    "class Solution:\n",
    "\n",
    "    def product(self, arr): # SEE COMMENTS\n",
    "        product = 1\n",
    "        for i in arr:\n",
    "            product *= i\n",
    "        return product\n",
    "    \n",
    "    def productExceptSelf(self, nums: List[int]) -> List[int]:\n",
    "        answer = []\n",
    "        for i in range(len(nums)):\n",
    "            temp = nums.copy()\n",
    "            # print(temp)\n",
    "            temp.pop(i)\n",
    "            # print(temp)\n",
    "            answer.append(self.product(temp))\n",
    "        return answer\n",
    "        \n",
    "\n",
    "s = Solution()\n",
    "\n",
    "print(s.productExceptSelf([1,2,3,4])) # [24,12,8,6]\n",
    "print(s.productExceptSelf([-1,1,0,-3,3])) # [0,0,9,0,0]\n",
    "print(s.productExceptSelf([1,0])) # [0,1]\n",
    "print(s.productExceptSelf([0,1])) # [1,0]\n",
    "print(s.productExceptSelf([0,0])) # [0,0]\n",
    "\n"
   ]
  },
  {
   "cell_type": "code",
   "execution_count": 12,
   "metadata": {},
   "outputs": [],
   "source": [
    "# The error message TypeError: Solution.product() takes 1 positional argument but 2 were given is occurring because the product method in your Solution class is missing the self parameter. In Python, instance methods in a class must have self as the first parameter to refer to the instance itself. "
   ]
  },
  {
   "cell_type": "code",
   "execution_count": 16,
   "metadata": {},
   "outputs": [
    {
     "name": "stdout",
     "output_type": "stream",
     "text": [
      "[24, 12, 8, 6]\n",
      "[0, 0, 9, 0, 0]\n",
      "[0, 1]\n",
      "[1, 0]\n",
      "[0, 0]\n"
     ]
    }
   ],
   "source": [
    "# Leetcode 238. Product of Array Except Self. Array and Hashing. \n",
    "\n",
    "from typing import List\n",
    "\n",
    "class Solution:\n",
    "\n",
    "    # def product(self, arr): # SEE COMMENTS\n",
    "    #     product = 1\n",
    "    #     for i in arr:\n",
    "    #         product *= i\n",
    "    #     return product\n",
    "    \n",
    "    def productExceptSelf(self, nums: List[int]) -> List[int]:\n",
    "        answer = []\n",
    "        for i in range(len(nums)):\n",
    "            temp = nums.copy()\n",
    "            temp.pop(i)\n",
    "            product = 1\n",
    "            for j in temp:\n",
    "                product *= j\n",
    "            answer.append(product)\n",
    "        return answer\n",
    "        \n",
    "\n",
    "s = Solution()\n",
    "\n",
    "print(s.productExceptSelf([1,2,3,4])) # [24,12,8,6]\n",
    "print(s.productExceptSelf([-1,1,0,-3,3])) # [0,0,9,0,0]\n",
    "print(s.productExceptSelf([1,0])) # [0,1]\n",
    "print(s.productExceptSelf([0,1])) # [1,0]\n",
    "print(s.productExceptSelf([0,0])) # [0,0]"
   ]
  },
  {
   "cell_type": "code",
   "execution_count": 22,
   "metadata": {},
   "outputs": [
    {
     "name": "stdout",
     "output_type": "stream",
     "text": [
      "[24, 12, 8, 6]\n",
      "[0, 0, 9, 0, 0]\n",
      "[0, 1]\n",
      "[1, 0]\n",
      "[0, 0]\n"
     ]
    }
   ],
   "source": [
    "# Leetcode 238. Product of Array Except Self. Array and Hashing. \n",
    "\n",
    "from typing import List\n",
    "\n",
    "class Solution:\n",
    "   \n",
    "    def productExceptSelf(self, nums: List[int]) -> List[int]:\n",
    "        answer = []\n",
    "        for i in range(len(nums)):\n",
    "            left = nums[:i]\n",
    "            right = nums[i+1:]\n",
    "            # print(left, right)\n",
    "            lp = 1\n",
    "            rp = 1\n",
    "            for l in left:\n",
    "                lp *= l\n",
    "            for r in right:\n",
    "                rp *= r\n",
    "                \n",
    "            answer.append(lp*rp)\n",
    "\n",
    "        return answer\n",
    "        \n",
    "\n",
    "s = Solution()\n",
    "\n",
    "print(s.productExceptSelf([1,2,3,4])) # [24,12,8,6]\n",
    "print(s.productExceptSelf([-1,1,0,-3,3])) # [0,0,9,0,0]\n",
    "print(s.productExceptSelf([1,0])) # [0,1]\n",
    "print(s.productExceptSelf([0,1])) # [1,0]\n",
    "print(s.productExceptSelf([0,0])) # [0,0]"
   ]
  },
  {
   "cell_type": "code",
   "execution_count": 1,
   "metadata": {},
   "outputs": [],
   "source": [
    "# Leetcode 238. Product of Array Except Self. Array and Hashing. \n",
    "\n",
    "from typing import List\n",
    "\n",
    "class Solution:\n",
    "   \n",
    "    def productExceptSelf(self, nums: List[int]) -> List[int]:\n",
    "        answer = [1] * len(nums)\n",
    "        pre = 1\n",
    "        for i in range(len(nums)):\n",
    "            answer[i] = pre\n",
    "            pre *= nums[i]\n",
    "        post = 1\n",
    "        for i in range(len(nums)-1, -1, -1):\n",
    "            answer[i] *= post\n",
    "            post *= nums[i]\n",
    "        return answer\n",
    "        \n",
    "\n",
    "s = Solution()\n",
    "\n",
    "print(s.productExceptSelf([1,2,3,4])) # [24,12,8,6]\n",
    "print(s.productExceptSelf([-1,1,0,-3,3])) # [0,0,9,0,0]\n",
    "print(s.productExceptSelf([1,0])) # [0,1]\n",
    "print(s.productExceptSelf([0,1])) # [1,0]\n",
    "print(s.productExceptSelf([0,0])) # [0,0]"
   ]
  },
  {
   "cell_type": "code",
   "execution_count": 29,
   "metadata": {},
   "outputs": [
    {
     "name": "stdout",
     "output_type": "stream",
     "text": [
      "[24, 12, 8, 6]\n",
      "[0, 0, 9, 0, 0]\n",
      "[0, 1]\n",
      "[1, 0]\n",
      "[0, 0]\n"
     ]
    }
   ],
   "source": [
    "class Solution:\n",
    "    def productExceptSelf(self, nums: List[int]) -> List[int]:\n",
    "        n = len(nums)\n",
    "        left, right, res = [0] * n, [0] * n, [0] * n\n",
    "\n",
    "        left[0] = 1\n",
    "        for i in range(1, len(nums)):\n",
    "            left[i] = left[i - 1] * nums[i - 1]\n",
    "\n",
    "        right[n - 1] = 1\n",
    "        for i in range(len(nums) - 2, -1, -1):\n",
    "            right[i] = right[i + 1] * nums[i + 1]\n",
    "\n",
    "        for i in range(n):\n",
    "            res[i] = left[i] * right[i]\n",
    "\n",
    "        return res\n",
    "    \n",
    "print(s.productExceptSelf([1,2,3,4])) # [24,12,8,6]\n",
    "print(s.productExceptSelf([-1,1,0,-3,3])) # [0,0,9,0,0]\n",
    "print(s.productExceptSelf([1,0])) # [0,1]\n",
    "print(s.productExceptSelf([0,1])) # [1,0]\n",
    "print(s.productExceptSelf([0,0])) # [0,0]"
   ]
  }
 ],
 "metadata": {
  "kernelspec": {
   "display_name": "base",
   "language": "python",
   "name": "python3"
  },
  "language_info": {
   "codemirror_mode": {
    "name": "ipython",
    "version": 3
   },
   "file_extension": ".py",
   "mimetype": "text/x-python",
   "name": "python",
   "nbconvert_exporter": "python",
   "pygments_lexer": "ipython3",
   "version": "3.11.5"
  }
 },
 "nbformat": 4,
 "nbformat_minor": 2
}
