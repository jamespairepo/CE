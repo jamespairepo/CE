{
 "cells": [
  {
   "cell_type": "code",
   "execution_count": 34,
   "metadata": {},
   "outputs": [
    {
     "name": "stdout",
     "output_type": "stream",
     "text": [
      "{1: 2, 3: 1}\n",
      "{3: 1}\n",
      "[2, 1]\n"
     ]
    }
   ],
   "source": [
    "from typing import List\n",
    "\n",
    "class Solution:\n",
    "    def topKFrequent(self, nums: List[int], k: int) -> List[int]:\n",
    "        dict = {}\n",
    "        for i in nums:\n",
    "            if i in dict:\n",
    "                dict[i] += 1\n",
    "            else:\n",
    "                dict[i] = 1\n",
    "        key_list = []\n",
    "        for i in range(0,k):\n",
    "            key_list.append(max(dict, key=dict.get))\n",
    "            dict.pop(max(dict, key=dict.get))\n",
    "        return key_list\n",
    "\n",
    "s = Solution()\n",
    "print(s.topKFrequent([1,1,2,2,2,3], 2))"
   ]
  }
 ],
 "metadata": {
  "kernelspec": {
   "display_name": "base",
   "language": "python",
   "name": "python3"
  },
  "language_info": {
   "codemirror_mode": {
    "name": "ipython",
    "version": 3
   },
   "file_extension": ".py",
   "mimetype": "text/x-python",
   "name": "python",
   "nbconvert_exporter": "python",
   "pygments_lexer": "ipython3",
   "version": "3.11.5"
  }
 },
 "nbformat": 4,
 "nbformat_minor": 2
}
