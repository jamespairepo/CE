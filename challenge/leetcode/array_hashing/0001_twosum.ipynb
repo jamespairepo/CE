{
 "cells": [
  {
   "cell_type": "code",
   "execution_count": null,
   "metadata": {},
   "outputs": [],
   "source": [
    "# Given an array of integers nums and an integer target, return indices of the two numbers such that they add up to target.\n",
    "\n",
    "# You may assume that each input would have exactly one solution, and you may not use the same element twice.\n",
    "\n",
    "# You can return the answer in any order.\n",
    "\n",
    " \n",
    "\n",
    "# Example 1:\n",
    "\n",
    "# Input: nums = [2,7,11,15], target = 9\n",
    "# Output: [0,1]\n",
    "# Explanation: Because nums[0] + nums[1] == 9, we return [0, 1].\n",
    "# Example 2:\n",
    "\n",
    "# Input: nums = [3,2,4], target = 6\n",
    "# Output: [1,2]\n",
    "# Example 3:\n",
    "\n",
    "# Input: nums = [3,3], target = 6\n",
    "# Output: [0,1]"
   ]
  },
  {
   "cell_type": "code",
   "execution_count": 25,
   "metadata": {},
   "outputs": [
    {
     "name": "stdout",
     "output_type": "stream",
     "text": [
      "{7: 0}\n",
      "0\n",
      "[0, 1]\n"
     ]
    }
   ],
   "source": [
    "# class Solution:\n",
    "#     def twoSum(self, nums: List[int], target: int) -> List[int]:\n",
    "#         i = 0\n",
    "#         j = 0\n",
    "#         t = target\n",
    "#         if nums[i] + nums[j] == t:\n",
    "#             return [i, j]\n",
    "#         if nums[i] + nums[j] < t:\n",
    "#             j += 1\n",
    "#         if nums[i] + nums[j] > t:\n",
    "#             i += 1\n",
    "#             j = i + 1\n",
    "\n",
    "# This is a brute force solution. It is not efficient. I will try to solve it using a dictionary.\n",
    "# I will iterate through the list and store the difference between the target and the current number in a dictionary.\n",
    "# If the difference is in the dictionary, I will return the index of the current number and the index of the difference.    \n",
    "\n",
    "from typing import List\n",
    "\n",
    "from matplotlib.animation import adjusted_figsize\n",
    "class Solution:\n",
    "    def twoSum(self, nums: List[int], target: int) -> List[int]:\n",
    "        d = {}\n",
    "        for i in range(len(nums)):\n",
    "            if nums[i] in d:\n",
    "                print(d[7])\n",
    "                return [d[nums[i]], i]\n",
    "            else:\n",
    "                d[target - nums[i]] = i\n",
    "                print(d)\n",
    "\n",
    "# I will test the function with the examples provided\n",
    "s = Solution()\n",
    "nums = [2,7,11,15]\n",
    "target = 9\n",
    "print(s.twoSum(nums, target))\n"
   ]
  },
  {
   "cell_type": "code",
   "execution_count": 38,
   "metadata": {},
   "outputs": [
    {
     "name": "stdout",
     "output_type": "stream",
     "text": [
      "[1, 2]\n"
     ]
    }
   ],
   "source": [
    "class Solution:\n",
    "    def twoSum(self, nums: List[int], target: int) -> List[int]:\n",
    "        for i in range(len(nums)):\n",
    "            for j in range(i + 1, len(nums)):\n",
    "                if nums[i] + nums[j] == target:\n",
    "                    return [i, j]\n",
    "                if nums[i] + nums[j] > target:\n",
    "                    continue\n",
    "nums = [3,2,4]\n",
    "target = 6\n",
    "s = Solution()\n",
    "print(s.twoSum(nums, target)) # [1, 2]\n"
   ]
  },
  {
   "cell_type": "code",
   "execution_count": null,
   "metadata": {},
   "outputs": [],
   "source": []
  }
 ],
 "metadata": {
  "kernelspec": {
   "display_name": "base",
   "language": "python",
   "name": "python3"
  },
  "language_info": {
   "codemirror_mode": {
    "name": "ipython",
    "version": 3
   },
   "file_extension": ".py",
   "mimetype": "text/x-python",
   "name": "python",
   "nbconvert_exporter": "python",
   "pygments_lexer": "ipython3",
   "version": "3.11.5"
  }
 },
 "nbformat": 4,
 "nbformat_minor": 2
}
