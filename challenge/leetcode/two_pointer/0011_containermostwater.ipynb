{
 "cells": [
  {
   "cell_type": "code",
   "execution_count": 5,
   "metadata": {},
   "outputs": [
    {
     "name": "stdout",
     "output_type": "stream",
     "text": [
      "49\n"
     ]
    }
   ],
   "source": [
    "from typing import List\n",
    "\n",
    "class Solution:\n",
    "    def maxArea(self, heightlist: List[int]) -> int:\n",
    "        maxa = 0\n",
    "        for l in range(len(height)-1):\n",
    "            for r in range(l + 1, len(height)):\n",
    "                if min(height[l], height[r]) * (r - l) > maxa:\n",
    "                    maxa = min(height[l], height[r]) * (r - l)\n",
    "        return maxa\n",
    "\n",
    "heightlist = [1,8,6,2,5,4,8,3,7]\n",
    "s = Solution()\n",
    "print(s.maxArea(height)) # 49\n",
    "\n",
    "# time limit exceeded"
   ]
  },
  {
   "cell_type": "code",
   "execution_count": 3,
   "metadata": {},
   "outputs": [],
   "source": [
    "# Input: height = [1,8,6,2,5,4,8,3,7]\n",
    "# Output: 49\n",
    "# Explanation: The above vertical lines are represented by array [1,8,6,2,5,4,8,3,7]. In this case, the max area of water (blue section) the container can contain is 49."
   ]
  },
  {
   "cell_type": "code",
   "execution_count": 7,
   "metadata": {},
   "outputs": [
    {
     "name": "stdout",
     "output_type": "stream",
     "text": [
      "49\n"
     ]
    }
   ],
   "source": [
    "from typing import List\n",
    "\n",
    "class Solution:\n",
    "    def maxArea(self, heightlist: List[int]) -> int:\n",
    "        maxa = 0\n",
    "        l,r = 0, len(heightlist) - 1\n",
    "        while l < r:\n",
    "            maxa = max(maxa, min(heightlist[l], heightlist[r]) * (r - l))\n",
    "            if heightlist[l] < heightlist[r]:\n",
    "                l += 1\n",
    "            else:\n",
    "                r -= 1\n",
    "        return maxa\n",
    "    \n",
    "height = [1,8,6,2,5,4,8,3,7]\n",
    "s = Solution()\n",
    "print(s.maxArea(height)) # 49"
   ]
  }
 ],
 "metadata": {
  "kernelspec": {
   "display_name": "base",
   "language": "python",
   "name": "python3"
  },
  "language_info": {
   "codemirror_mode": {
    "name": "ipython",
    "version": 3
   },
   "file_extension": ".py",
   "mimetype": "text/x-python",
   "name": "python",
   "nbconvert_exporter": "python",
   "pygments_lexer": "ipython3",
   "version": "3.11.5"
  }
 },
 "nbformat": 4,
 "nbformat_minor": 2
}
