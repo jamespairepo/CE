{
 "cells": [
  {
   "cell_type": "code",
   "execution_count": 40,
   "metadata": {},
   "outputs": [
    {
     "name": "stdout",
     "output_type": "stream",
     "text": [
      "6\n"
     ]
    }
   ],
   "source": [
    "from typing import List\n",
    "\n",
    "class Solution:\n",
    "    def trap(self, height: List[int]) -> int:\n",
    "        water = 0\n",
    "        for i in range(1,len(height)-1):\n",
    "            maxl = max(height[:i])\n",
    "            maxr = max(height[i+1:])\n",
    "            minh = min(maxl, maxr)\n",
    "            water += max(0, minh - height[i])\n",
    "        return water\n",
    "\n",
    "\n",
    "\n",
    "height = [0,1,0,2,1,0,1,3,2,1,2,1]\n",
    "s = Solution()\n",
    "print(s.trap(height)) # 6"
   ]
  },
  {
   "cell_type": "code",
   "execution_count": null,
   "metadata": {},
   "outputs": [],
   "source": [
    "# range(l, r):\n",
    "\n",
    "# range(l, r) is a built-in function that generates a sequence of numbers from l (inclusive) to r (exclusive), with a step size of 1.\n",
    "# It returns a range object, which is an iterable that can be used in loops or converted to a list.\n",
    "# Example: range(0, 5) generates the sequence 0, 1, 2, 3, 4.\n",
    "# [l:r]:\n",
    "\n",
    "# [l:r] is used for list slicing in Python.\n",
    "# It creates a new list that contains elements from index l to index r-1 from the original list.\n",
    "# The syntax is [start:stop], where start is the starting index (inclusive) and stop is the ending index (exclusive).\n",
    "# Example: my_list[1:4] creates a new list with elements from index 1 to index 3 from my_list.\n",
    "# In summary, range(l, r) is used to generate a sequence of numbers, while [l:r] is used to create a new list by slicing a portion of an existing list."
   ]
  }
 ],
 "metadata": {
  "kernelspec": {
   "display_name": "base",
   "language": "python",
   "name": "python3"
  },
  "language_info": {
   "codemirror_mode": {
    "name": "ipython",
    "version": 3
   },
   "file_extension": ".py",
   "mimetype": "text/x-python",
   "name": "python",
   "nbconvert_exporter": "python",
   "pygments_lexer": "ipython3",
   "version": "3.11.5"
  }
 },
 "nbformat": 4,
 "nbformat_minor": 2
}
