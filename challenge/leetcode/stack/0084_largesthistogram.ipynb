{
 "cells": [
  {
   "cell_type": "code",
   "execution_count": 14,
   "metadata": {},
   "outputs": [
    {
     "name": "stdout",
     "output_type": "stream",
     "text": [
      "Solution:  3\n"
     ]
    }
   ],
   "source": [
    "from typing import List\n",
    "\n",
    "class Solution: \n",
    "    def largestRectangleArea(self, heights: List[int]) -> int:\n",
    "        \n",
    "        # store current area\n",
    "        area = 0\n",
    "\n",
    "        # find number of rectangles to right with heights >= current height\n",
    "        for i in range(len(heights)):\n",
    "            rcount=0\n",
    "            for j in range(1,len(heights)-i):\n",
    "                if heights[i+j] >= heights[i]:\n",
    "                    rcount+=1\n",
    "                else:\n",
    "                    break\n",
    "            lcount=0\n",
    "            for j in range(1,i+1):\n",
    "                if heights[i-j] >= heights[i]:\n",
    "                    lcount+=1\n",
    "                else:\n",
    "                    break\n",
    "            if (heights[i]*(rcount+lcount+1))>area:\n",
    "                area = heights[i]*(rcount+lcount+1)\n",
    "        return area\n",
    "\n",
    "\n",
    "sol = Solution()\n",
    "heights = [2,1,2]\n",
    "print('Solution: ', sol.largestRectangleArea(heights))"
   ]
  },
  {
   "cell_type": "code",
   "execution_count": 16,
   "metadata": {},
   "outputs": [
    {
     "name": "stdout",
     "output_type": "stream",
     "text": [
      "Solution:  10\n"
     ]
    }
   ],
   "source": [
    "from typing import List\n",
    "\n",
    "class Solution: \n",
    "    def largestRectangleArea(self, heights: List[int]) -> int:\n",
    "        \n",
    "        area = 0 \n",
    "        stack = [] # pair: (index, height)\n",
    "\n",
    "        for i, h in enumerate(heights):\n",
    "            start = i\n",
    "            while stack and stack[-1][1] > h:\n",
    "                index, height = stack.pop()\n",
    "                area = max(area, height * (i - index))\n",
    "                start = index \n",
    "            stack.append((start, h))\n",
    "        for i, h in stack:\n",
    "            area = max(area, h * (len(heights) - i))\n",
    "        return area\n",
    "\n",
    "sol = Solution()\n",
    "heights = [2,1,5,6,2,3]\n",
    "print('Solution: ', sol.largestRectangleArea(heights))\n",
    "\n"
   ]
  }
 ],
 "metadata": {
  "kernelspec": {
   "display_name": "base",
   "language": "python",
   "name": "python3"
  },
  "language_info": {
   "codemirror_mode": {
    "name": "ipython",
    "version": 3
   },
   "file_extension": ".py",
   "mimetype": "text/x-python",
   "name": "python",
   "nbconvert_exporter": "python",
   "pygments_lexer": "ipython3",
   "version": "3.11.5"
  }
 },
 "nbformat": 4,
 "nbformat_minor": 2
}
