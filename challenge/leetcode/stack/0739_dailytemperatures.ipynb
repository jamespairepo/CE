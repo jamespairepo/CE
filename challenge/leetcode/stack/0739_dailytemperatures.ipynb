{
 "cells": [
  {
   "cell_type": "code",
   "execution_count": 1,
   "metadata": {},
   "outputs": [
    {
     "name": "stdout",
     "output_type": "stream",
     "text": [
      "[3, 1, 1, 2, 1, 1, 0, 1, 1, 0]\n"
     ]
    }
   ],
   "source": [
    "from typing import List\n",
    "\n",
    "class Solution:\n",
    "    def dailyTemperatures(self, temperatures: List[int]) -> List[int]:\n",
    "        res = []\n",
    "\n",
    "        i = 0\n",
    "        j = 1\n",
    "        # print(f'temp {len(temperatures)}')\n",
    "        while i + j < len(temperatures):\n",
    "            if temperatures[i+j] > temperatures[i]:\n",
    "                res.append(j)\n",
    "                i += 1\n",
    "                j = 1\n",
    "            else:\n",
    "                j += 1\n",
    "                if i + j >= len(temperatures):\n",
    "                    res.append(0)\n",
    "                    i += 1\n",
    "                    j = 1\n",
    "        res.append(0)\n",
    "        return res\n",
    "\n",
    "\n",
    "sol = Solution()\n",
    "temperatures = [55,38,53,81,61,93,97,32,43,78]\n",
    "print(sol.dailyTemperatures(temperatures))"
   ]
  },
  {
   "cell_type": "code",
   "execution_count": null,
   "metadata": {},
   "outputs": [],
   "source": [
    "from typing import List\n",
    "\n",
    "class Solution:\n",
    "    def dailyTemperatures(self, temperatures: List[int]) -> List[int]:\n",
    "\n",
    "        templist = sorted(temperatures)\n",
    "        print(temperatures)\n",
    "        print(templist)\n",
    "    \n",
    "        res = []\n",
    "        i = 0\n",
    "        for i in range(len(temperatures)):\n",
    "            if temperatures.index(templist[i]) < temperatures.index(templist(i + 1)):\n",
    "                res.append(temperatures.index(templist[i]) < temperatures.index(templist(i + 1)))\n",
    "            else:\n",
    "                res.append(0)\n",
    "                i += 1\n",
    "        \n",
    "        return res\n",
    "                \n",
    "\n",
    "sol = Solution()\n",
    "temperatures = [55,38,53,81,61,93,97,32,43,78]\n",
    "print(sol.dailyTemperatures(temperatures))"
   ]
  },
  {
   "cell_type": "code",
   "execution_count": 23,
   "metadata": {},
   "outputs": [
    {
     "name": "stdout",
     "output_type": "stream",
     "text": [
      "[3, 1, 1, 2, 1, 1, 3, 1, 1, 0]\n"
     ]
    }
   ],
   "source": [
    "from typing import List\n",
    "\n",
    "class Solution:\n",
    "    def dailyTemperatures(self, temperatures: List[int]) -> List[int]:\n",
    "        stack = []\n",
    "        res = [0] * len(temperatures)\n",
    "        for i in range(len(temperatures)):\n",
    "            while stack and temperatures[i] > temperatures[stack[-1]]:\n",
    "                prev_index = stack.pop()\n",
    "                res[prev_index] = i - prev_index\n",
    "            stack.append(i)\n",
    "        return res\n",
    "\n",
    "sol = Solution()\n",
    "temperatures = [55,38,53,81,61,93,97,32,43,100]\n",
    "print(sol.dailyTemperatures(temperatures))"
   ]
  }
 ],
 "metadata": {
  "kernelspec": {
   "display_name": "base",
   "language": "python",
   "name": "python3"
  },
  "language_info": {
   "codemirror_mode": {
    "name": "ipython",
    "version": 3
   },
   "file_extension": ".py",
   "mimetype": "text/x-python",
   "name": "python",
   "nbconvert_exporter": "python",
   "pygments_lexer": "ipython3",
   "version": "3.11.5"
  }
 },
 "nbformat": 4,
 "nbformat_minor": 2
}
