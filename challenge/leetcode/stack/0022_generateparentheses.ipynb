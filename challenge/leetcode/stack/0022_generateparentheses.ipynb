{
 "cells": [
  {
   "cell_type": "code",
   "execution_count": 1,
   "metadata": {},
   "outputs": [
    {
     "name": "stdout",
     "output_type": "stream",
     "text": [
      "a ['(', '(', '('], b [')', ')', ')']\n",
      "ans - None\n"
     ]
    }
   ],
   "source": [
    "from typing import List\n",
    "\n",
    "class Solution:\n",
    "    def generateParenthesis(self, n: int) -> List[str]:\n",
    "        alist, blist = [], []\n",
    "        for _ in range(n):\n",
    "           alist+='('\n",
    "           blist+=')'\n",
    "        print(f'a {alist}, b {blist}')         \n",
    "\n",
    "\n",
    "n = int(input(f'enter number: '))\n",
    "s = Solution()\n",
    "print(f'ans - {s.generateParenthesis(n)}')\n"
   ]
  },
  {
   "cell_type": "code",
   "execution_count": 5,
   "metadata": {},
   "outputs": [
    {
     "name": "stdout",
     "output_type": "stream",
     "text": [
      "['((((()))))', '(((()())))', '(((())()))', '(((()))())', '(((())))()', '((()(())))', '((()()()))', '((()())())', '((()()))()', '((())(()))', '((())()())', '((())())()', '((()))(())', '((()))()()', '(()((())))', '(()(()()))', '(()(())())', '(()(()))()', '(()()(()))', '(()()()())', '(()()())()', '(()())(())', '(()())()()', '(())((()))', '(())(()())', '(())(())()', '(())()(())', '(())()()()', '()(((())))', '()((()()))', '()((())())', '()((()))()', '()(()(()))', '()(()()())', '()(()())()', '()(())(())', '()(())()()', '()()((()))', '()()(()())', '()()(())()', '()()()(())', '()()()()()']\n"
     ]
    }
   ],
   "source": [
    "from typing import List\n",
    "\n",
    "class Solution:\n",
    "    def generateParenthesis(self, n: int) -> List[str]:\n",
    "        # only add open if open < n\n",
    "        # only add closing if closing < open\n",
    "        # valid IFF open == closed == n\n",
    "    \n",
    "        stack = []\n",
    "        res = []\n",
    "\n",
    "        def backtrack(openN, closedN):\n",
    "            if openN == closedN == n:\n",
    "                res.append(''.join(stack))\n",
    "                return\n",
    "            \n",
    "            if openN < n:\n",
    "                stack.append('(')\n",
    "                backtrack(openN + 1, closedN)\n",
    "                stack.pop()\n",
    "\n",
    "            if closedN < openN:\n",
    "                stack.append(')')\n",
    "                backtrack(openN, closedN + 1)\n",
    "                stack.pop()\n",
    "        \n",
    "        backtrack(0,0) # starts backtrack with empty stack\n",
    "        return res\n",
    "\n",
    "s = Solution()\n",
    "print(s.generateParenthesis(5))"
   ]
  }
 ],
 "metadata": {
  "kernelspec": {
   "display_name": "base",
   "language": "python",
   "name": "python3"
  },
  "language_info": {
   "codemirror_mode": {
    "name": "ipython",
    "version": 3
   },
   "file_extension": ".py",
   "mimetype": "text/x-python",
   "name": "python",
   "nbconvert_exporter": "python",
   "pygments_lexer": "ipython3",
   "version": "3.11.5"
  }
 },
 "nbformat": 4,
 "nbformat_minor": 2
}
