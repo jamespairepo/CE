{
 "cells": [
  {
   "cell_type": "code",
   "execution_count": 46,
   "metadata": {},
   "outputs": [
    {
     "name": "stdout",
     "output_type": "stream",
     "text": [
      "1\n"
     ]
    }
   ],
   "source": [
    "from typing import List\n",
    "\n",
    "class Solution:\n",
    "    def carFleet(self, target: int, position: List[int], speed: List[int]) -> int:\n",
    "\n",
    "        # create paired list\n",
    "        paired = []         \n",
    "        for i in range(len(position)):\n",
    "            paired.append((position[i], speed[i]))\n",
    "        spair = sorted(paired)\n",
    "        # print(f'spair {spair}')\n",
    "\n",
    "\n",
    "        \n",
    "        # create time list\n",
    "        time = []\n",
    "        for i in range(len(spair)):      \n",
    "            pair = spair[i]\n",
    "            position, speed = pair              \n",
    "            time.append((target - position) / speed)\n",
    "        # print(f'timeInit {time}')\n",
    "        \n",
    "        # remove elements that are faster than element in front of it\n",
    "\n",
    "        for i in range(len(time) - 1, 0, -1):\n",
    "            if time[i - 1] <= time[i]:\n",
    "                del time[i - 1]\n",
    "                \n",
    "        # print(f'final time {time}')\n",
    "\n",
    "        return len(time)\n",
    "\n",
    "\n",
    "                \n",
    "\n",
    "    \n",
    "\n",
    "sol = Solution()\n",
    "\n",
    "target = 10\n",
    "position = [0,4,2]\n",
    "speed = [2,1,3]\n",
    "\n",
    "print(sol.carFleet(target, position, speed))"
   ]
  }
 ],
 "metadata": {
  "kernelspec": {
   "display_name": "base",
   "language": "python",
   "name": "python3"
  },
  "language_info": {
   "codemirror_mode": {
    "name": "ipython",
    "version": 3
   },
   "file_extension": ".py",
   "mimetype": "text/x-python",
   "name": "python",
   "nbconvert_exporter": "python",
   "pygments_lexer": "ipython3",
   "version": "3.11.5"
  }
 },
 "nbformat": 4,
 "nbformat_minor": 2
}
