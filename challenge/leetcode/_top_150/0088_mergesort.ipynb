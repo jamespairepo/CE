{
 "cells": [
  {
   "cell_type": "code",
   "execution_count": 1,
   "metadata": {},
   "outputs": [],
   "source": [
    "# 88. Merge Sorted Array\n",
    "# Easy\n",
    "# Topics\n",
    "# Companies\n",
    "# Hint\n",
    "# You are given two integer arrays nums1 and nums2, sorted in non-decreasing order, and two integers m and n, representing the number of elements in nums1 and nums2 respectively.\n",
    "\n",
    "# Merge nums1 and nums2 into a single array sorted in non-decreasing order.\n",
    "\n",
    "# The final sorted array should not be returned by the function, but instead be stored inside the array nums1. To accommodate this, nums1 has a length of m + n, where the first m elements denote the elements that should be merged, and the last n elements are set to 0 and should be ignored. nums2 has a length of n.\n",
    "\n",
    " \n",
    "\n",
    "# Example 1:\n",
    "\n",
    "# Input: nums1 = [1,2,3,0,0,0], m = 3, nums2 = [2,5,6], n = 3\n",
    "# Output: [1,2,2,3,5,6]\n",
    "# Explanation: The arrays we are merging are [1,2,3] and [2,5,6].\n",
    "# The result of the merge is [1,2,2,3,5,6] with the underlined elements coming from nums1.\n",
    "# Example 2:\n",
    "\n",
    "# Input: nums1 = [1], m = 1, nums2 = [], n = 0\n",
    "# Output: [1]\n",
    "# Explanation: The arrays we are merging are [1] and [].\n",
    "# The result of the merge is [1].\n",
    "# Example 3:\n",
    "\n",
    "# Input: nums1 = [0], m = 0, nums2 = [1], n = 1\n",
    "# Output: [1]\n",
    "# Explanation: The arrays we are merging are [] and [1].\n",
    "# The result of the merge is [1].\n",
    "# Note that because m = 0, there are no elements in nums1. The 0 is only there to ensure the merge result can fit in nums1.\n",
    " \n",
    "\n",
    "# Constraints:\n",
    "\n",
    "# nums1.length == m + n\n",
    "# nums2.length == n\n",
    "# 0 <= m, n <= 200\n",
    "# 1 <= m + n <= 200\n",
    "# -109 <= nums1[i], nums2[j] <= 109\n",
    " \n",
    "\n",
    "# Follow up: Can you come up with an algorithm that runs in O(m + n) time?"
   ]
  },
  {
   "cell_type": "code",
   "execution_count": 40,
   "metadata": {},
   "outputs": [
    {
     "name": "stdout",
     "output_type": "stream",
     "text": [
      "merge [1, 2, 3, 0, 0, 0, 2, 5, 6]\n",
      "sort [0, 0, 0, 1, 2, 2, 3, 5, 6]\n",
      "[1, 2, 2, 3, 5, 6]\n"
     ]
    }
   ],
   "source": [
    "def merge_sort(arr1, arr2):\n",
    "    arr3 = arr1 + arr2\n",
    "    print('merge',arr3)\n",
    "    arr3 = sorted(arr3)\n",
    "    print('sort',arr3)\n",
    "    i=0\n",
    "    while i < len(arr3):\n",
    "        if arr3[i] == 0:\n",
    "            arr3.pop(i)\n",
    "        else:\n",
    "            i += 1\n",
    "    return arr3\n",
    "\n",
    "nums1 = [1,2,3,0,0,0]\n",
    "m = 3\n",
    "nums2 = [2,5,6]\n",
    "n = 3\n",
    "\n",
    "print(merge_sort(nums1, nums2))\n",
    "\n",
    "# Output: [1,2,2,3,5,6]"
   ]
  },
  {
   "cell_type": "code",
   "execution_count": 42,
   "metadata": {},
   "outputs": [
    {
     "ename": "NameError",
     "evalue": "name 'List' is not defined",
     "output_type": "error",
     "traceback": [
      "\u001b[1;31m---------------------------------------------------------------------------\u001b[0m",
      "\u001b[1;31mNameError\u001b[0m                                 Traceback (most recent call last)",
      "Cell \u001b[1;32mIn[42], line 1\u001b[0m\n\u001b[1;32m----> 1\u001b[0m \u001b[38;5;28;43;01mclass\u001b[39;49;00m\u001b[43m \u001b[49m\u001b[38;5;21;43;01mSolution\u001b[39;49;00m\u001b[43m:\u001b[49m\n\u001b[0;32m      2\u001b[0m \u001b[43m    \u001b[49m\u001b[38;5;28;43;01mdef\u001b[39;49;00m\u001b[43m \u001b[49m\u001b[38;5;21;43mmerge\u001b[39;49m\u001b[43m(\u001b[49m\u001b[38;5;28;43mself\u001b[39;49m\u001b[43m,\u001b[49m\u001b[43m \u001b[49m\u001b[43mnums1\u001b[49m\u001b[43m:\u001b[49m\u001b[43m \u001b[49m\u001b[43mList\u001b[49m\u001b[43m[\u001b[49m\u001b[38;5;28;43mint\u001b[39;49m\u001b[43m]\u001b[49m\u001b[43m,\u001b[49m\u001b[43m \u001b[49m\u001b[43mm\u001b[49m\u001b[43m:\u001b[49m\u001b[43m \u001b[49m\u001b[38;5;28;43mint\u001b[39;49m\u001b[43m,\u001b[49m\u001b[43m \u001b[49m\u001b[43mnums2\u001b[49m\u001b[43m:\u001b[49m\u001b[43m \u001b[49m\u001b[43mList\u001b[49m\u001b[43m[\u001b[49m\u001b[38;5;28;43mint\u001b[39;49m\u001b[43m]\u001b[49m\u001b[43m,\u001b[49m\u001b[43m \u001b[49m\u001b[43mn\u001b[49m\u001b[43m:\u001b[49m\u001b[43m \u001b[49m\u001b[38;5;28;43mint\u001b[39;49m\u001b[43m)\u001b[49m\u001b[43m \u001b[49m\u001b[38;5;241;43m-\u001b[39;49m\u001b[38;5;241;43m>\u001b[39;49m\u001b[43m \u001b[49m\u001b[38;5;28;43;01mNone\u001b[39;49;00m\u001b[43m:\u001b[49m\n\u001b[0;32m      3\u001b[0m \u001b[43m        \u001b[49m\u001b[43mnums1\u001b[49m\u001b[43m \u001b[49m\u001b[38;5;241;43m+\u001b[39;49m\u001b[38;5;241;43m=\u001b[39;49m\u001b[43m \u001b[49m\u001b[43mnums2\u001b[49m\n",
      "Cell \u001b[1;32mIn[42], line 2\u001b[0m, in \u001b[0;36mSolution\u001b[1;34m()\u001b[0m\n\u001b[0;32m      1\u001b[0m \u001b[38;5;28;01mclass\u001b[39;00m \u001b[38;5;21;01mSolution\u001b[39;00m:\n\u001b[1;32m----> 2\u001b[0m     \u001b[38;5;28;01mdef\u001b[39;00m \u001b[38;5;21mmerge\u001b[39m(\u001b[38;5;28mself\u001b[39m, nums1: \u001b[43mList\u001b[49m[\u001b[38;5;28mint\u001b[39m], m: \u001b[38;5;28mint\u001b[39m, nums2: List[\u001b[38;5;28mint\u001b[39m], n: \u001b[38;5;28mint\u001b[39m) \u001b[38;5;241m-\u001b[39m\u001b[38;5;241m>\u001b[39m \u001b[38;5;28;01mNone\u001b[39;00m:\n\u001b[0;32m      3\u001b[0m         nums1 \u001b[38;5;241m+\u001b[39m\u001b[38;5;241m=\u001b[39m nums2\n\u001b[0;32m      4\u001b[0m         nums1 \u001b[38;5;241m=\u001b[39m \u001b[38;5;28msorted\u001b[39m(nums1)\n",
      "\u001b[1;31mNameError\u001b[0m: name 'List' is not defined"
     ]
    }
   ],
   "source": [
    "class Solution:\n",
    "    def merge(self, nums1: List[int], m: int, nums2: List[int], n: int) -> None:\n",
    "        nums1 += nums2\n",
    "        nums1 = sorted(nums1)\n",
    "        i=0\n",
    "        while i < len(nums1):\n",
    "            if nums1[i] == 0:\n",
    "                nums1.pop(i)\n",
    "            else:\n",
    "                i += 1"
   ]
  },
  {
   "cell_type": "code",
   "execution_count": 56,
   "metadata": {},
   "outputs": [
    {
     "name": "stdout",
     "output_type": "stream",
     "text": [
      "line 4 [1, 2, 3, 0, 0, 0, 2, 5, 6]\n",
      "line 6 [0, 0, 0, 1, 2, 2, 3, 5, 6]\n",
      "[1, 2, 2, 3, 5, 6]\n"
     ]
    }
   ],
   "source": [
    "class Solution:\n",
    "    def merge(self, nums1: list[int], m: int, nums2: list[int], n: int) -> None:\n",
    "        nums1 = nums1 + nums2\n",
    "        print('line 4',nums1)\n",
    "        nums1.sort()\n",
    "        print('line 6',nums1)\n",
    "        i=0\n",
    "        while i < len(nums1):\n",
    "            if nums1[i] == 0:\n",
    "                nums1.pop(i)\n",
    "            else:\n",
    "                i += 1\n",
    "        return nums1\n",
    "\n",
    "nums1 = [1,2,3,0,0,0]\n",
    "m = 3\n",
    "nums2 = [2,5,6]\n",
    "n = 3\n",
    "\n",
    "sol=Solution()\n",
    "testsort = sol.merge(nums1,m,nums2,n)\n",
    "print(testsort)"
   ]
  },
  {
   "cell_type": "code",
   "execution_count": 70,
   "metadata": {},
   "outputs": [
    {
     "name": "stdout",
     "output_type": "stream",
     "text": [
      "[1, 2, 2, 3, 5, 6]\n"
     ]
    }
   ],
   "source": [
    "class Solution:\n",
    "    def merge(self, nums1: list[int], m: int, nums2: list[int], n: int) -> None:\n",
    "        nums1[m:] = nums2[:n]\n",
    "        i = 0\n",
    "        while i < len(nums1):\n",
    "            if nums1[i] == 0:\n",
    "                nums1.pop(i)\n",
    "            else:\n",
    "                i += 1\n",
    "        nums1.sort()\n",
    "        return nums1\n",
    "\n",
    "nums1 = [1,2,3,0,0,0]\n",
    "m = 3\n",
    "nums2 = [2,5,6]\n",
    "n = 3\n",
    "\n",
    "sol=Solution()\n",
    "testsort = sol.merge(nums1,m,nums2,n)\n",
    "print(testsort)"
   ]
  },
  {
   "cell_type": "code",
   "execution_count": null,
   "metadata": {},
   "outputs": [],
   "source": [
    "class Solution:\n",
    "    def merge(self, nums1: List[int], m: int, nums2: List[int], n: int) -> None:\n",
    "        \"\"\"\n",
    "        Do not return anything, modify nums1 in-place instead.\n",
    "        \"\"\"\n",
    "        nums1[m:] = nums2[:n]\n",
    "        i = 0\n",
    "        while i < len(nums1):\n",
    "            if nums1[i] == 0:\n",
    "                nums1.pop(i)\n",
    "            else:\n",
    "                i += 1\n",
    "        nums1.sort()"
   ]
  },
  {
   "cell_type": "code",
   "execution_count": 5,
   "metadata": {},
   "outputs": [
    {
     "name": "stdout",
     "output_type": "stream",
     "text": [
      "[1, 2, 2, 3, 5, 6]\n"
     ]
    }
   ],
   "source": [
    "class Solution:\n",
    "    def merge(self, nums1: list[int], m: int, nums2: list[int], n: int) -> None:\n",
    "        i = len(nums1)\n",
    "        while i < m:\n",
    "            nums1.pop(i)\n",
    "            i -= 1\n",
    "\n",
    "            # m += 1\n",
    "        i = len(nums2)\n",
    "        while i < n:\n",
    "            nums2.pop(i)\n",
    "            i -= 1\n",
    "            # n += 1        \n",
    "        nums1[m:] = nums2[:n]\n",
    "        # i = 0\n",
    "        # while i < len(nums1):\n",
    "        #     if nums1[i] == 0:\n",
    "        #         nums1.pop(i)\n",
    "        #     else:\n",
    "        #         i += 1\n",
    "        nums1.sort()\n",
    "        return nums1\n",
    "\n",
    "nums1 = [1,2,3,0,0,0]\n",
    "m = 3\n",
    "nums2 = [2,5,6]\n",
    "n = 3\n",
    "\n",
    "sol=Solution()\n",
    "testsort = sol.merge(nums1,m,nums2,n)\n",
    "print(testsort)"
   ]
  },
  {
   "cell_type": "code",
   "execution_count": null,
   "metadata": {},
   "outputs": [],
   "source": [
    "# FINAL SUBMISSION\n",
    "\n",
    "class Solution:\n",
    "    def merge(self, nums1: List[int], m: int, nums2: List[int], n: int) -> None:\n",
    "        i = len(nums1)\n",
    "        while i < m:\n",
    "            nums1.pop(i)\n",
    "            i -= 1\n",
    "        i = len(nums2)\n",
    "        while i < n:\n",
    "            nums2.pop(i)\n",
    "            i -= 1      \n",
    "        nums1[m:] = nums2[:n]\n",
    "        nums1.sort()"
   ]
  }
 ],
 "metadata": {
  "kernelspec": {
   "display_name": "Python 3",
   "language": "python",
   "name": "python3"
  },
  "language_info": {
   "codemirror_mode": {
    "name": "ipython",
    "version": 3
   },
   "file_extension": ".py",
   "mimetype": "text/x-python",
   "name": "python",
   "nbconvert_exporter": "python",
   "pygments_lexer": "ipython3",
   "version": "3.11.2"
  }
 },
 "nbformat": 4,
 "nbformat_minor": 2
}
