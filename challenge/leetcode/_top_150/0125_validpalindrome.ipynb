{
 "cells": [
  {
   "cell_type": "code",
   "execution_count": 14,
   "metadata": {},
   "outputs": [
    {
     "data": {
      "text/plain": [
       "False"
      ]
     },
     "execution_count": 14,
     "metadata": {},
     "output_type": "execute_result"
    }
   ],
   "source": [
    "from pydantic import BaseModel\n",
    "\n",
    "class Solution:\n",
    "    def isPalindrome(self, s: str) -> bool:\n",
    "        # anagram = []\n",
    "        newstring = ''.join(char.lower() for char in s if char.isalnum())\n",
    "        anagram = list(newstring)\n",
    "        # for i in newstring:\n",
    "        #     anagram.append(i)\n",
    "        # print(anagram)\n",
    "        for i in range(len(anagram)//2):\n",
    "            if anagram[i] != anagram[-(1+i)]:\n",
    "                return False\n",
    "        return True\n",
    "\n",
    "sol = Solution()\n",
    "example = \"0P\"\n",
    "sol.isPalindrome(example)"
   ]
  },
  {
   "cell_type": "code",
   "execution_count": 16,
   "metadata": {},
   "outputs": [
    {
     "data": {
      "text/plain": [
       "False"
      ]
     },
     "execution_count": 16,
     "metadata": {},
     "output_type": "execute_result"
    }
   ],
   "source": [
    "# two pointer approach\n",
    "\n",
    "class Solution:\n",
    "    def isPalindrome(self, s: str) -> bool:\n",
    "        left, right = 0, len(s) - 1\n",
    "        while left < right:\n",
    "            if not s[left].isalnum():\n",
    "                left += 1\n",
    "                continue\n",
    "            if not s[right].isalnum():\n",
    "                right -= 1\n",
    "                continue\n",
    "            if s[left].lower() != s[right].lower():\n",
    "                return False\n",
    "            left += 1\n",
    "            right -= 1\n",
    "        return True\n",
    "    \n",
    "sol = Solution()\n",
    "example = \"0P\"\n",
    "sol.isPalindrome(example)"
   ]
  }
 ],
 "metadata": {
  "kernelspec": {
   "display_name": "base",
   "language": "python",
   "name": "python3"
  },
  "language_info": {
   "codemirror_mode": {
    "name": "ipython",
    "version": 3
   },
   "file_extension": ".py",
   "mimetype": "text/x-python",
   "name": "python",
   "nbconvert_exporter": "python",
   "pygments_lexer": "ipython3",
   "version": "3.11.5"
  }
 },
 "nbformat": 4,
 "nbformat_minor": 2
}
