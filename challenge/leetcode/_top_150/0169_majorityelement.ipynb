{
 "cells": [
  {
   "cell_type": "code",
   "execution_count": 7,
   "metadata": {},
   "outputs": [
    {
     "data": {
      "text/plain": [
       "9"
      ]
     },
     "execution_count": 7,
     "metadata": {},
     "output_type": "execute_result"
    }
   ],
   "source": [
    "class Solution:\n",
    "    def majorityElement(self, nums: list[int]) -> int:\n",
    "        lennums = len(nums)/2\n",
    "        setnums = set(nums)\n",
    "        for i in setnums:\n",
    "            if nums.count(i) > lennums:\n",
    "                return i\n",
    "                break\n",
    "\n",
    "            \n",
    "nums = [2,2,1,1,1,2,2,4,5,6,7,8,9,9,9,9,9,9,9,9,9,9,9,9,9,9,9,9,9,9,9,9,9]\n",
    "sol = Solution()\n",
    "sol.majorityElement(nums)"
   ]
  }
 ],
 "metadata": {
  "kernelspec": {
   "display_name": "Python 3",
   "language": "python",
   "name": "python3"
  },
  "language_info": {
   "codemirror_mode": {
    "name": "ipython",
    "version": 3
   },
   "file_extension": ".py",
   "mimetype": "text/x-python",
   "name": "python",
   "nbconvert_exporter": "python",
   "pygments_lexer": "ipython3",
   "version": "3.11.2"
  }
 },
 "nbformat": 4,
 "nbformat_minor": 2
}
