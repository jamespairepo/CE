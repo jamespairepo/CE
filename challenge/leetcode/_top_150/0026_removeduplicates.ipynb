{
 "cells": [
  {
   "cell_type": "code",
   "execution_count": 140,
   "metadata": {},
   "outputs": [
    {
     "name": "stdout",
     "output_type": "stream",
     "text": [
      "0\n",
      "1\n",
      "2\n",
      "3\n",
      "4\n",
      "_\n",
      "_\n",
      "_\n",
      "_\n",
      "_\n",
      "5, nums = [0, 1, 2, 3, 4, '_', '_', '_', '_', '_']\n"
     ]
    }
   ],
   "source": [
    "class Solution():\n",
    "    def removeDuplicates(self, nums: list[int]) -> int:\n",
    "        removed_count = 0\n",
    "        for i in nums:\n",
    "            print(i)\n",
    "            while (nums.count(i) >= 2) and (i != '_'):\n",
    "                removed_count += 1\n",
    "                nums.remove(i)\n",
    "                nums.append('_')\n",
    "        return len(nums) - removed_count, nums\n",
    "\n",
    "sol = Solution()\n",
    "nums = [0,0,1,1,1,2,2,3,3,4]\n",
    "count, array = sol.removeDuplicates(nums)\n",
    "print(f'{count}, nums = {array}')"
   ]
  },
  {
   "cell_type": "code",
   "execution_count": 141,
   "metadata": {},
   "outputs": [],
   "source": [
    "# FINAL \n",
    "\n",
    "class Solution():\n",
    "    def removeDuplicates(self, nums: list[int]) -> int:\n",
    "        removed_count = 0\n",
    "        for i in nums:\n",
    "            print(i)\n",
    "            while (nums.count(i) >= 2) and (i != '_'):\n",
    "                removed_count += 1\n",
    "                nums.remove(i)\n",
    "                nums.append('_')\n",
    "        return len(nums) - removed_count"
   ]
  },
  {
   "cell_type": "code",
   "execution_count": 142,
   "metadata": {},
   "outputs": [
    {
     "data": {
      "text/plain": [
       "5"
      ]
     },
     "execution_count": 142,
     "metadata": {},
     "output_type": "execute_result"
    }
   ],
   "source": [
    "class Solution():\n",
    "    def removeDuplicates(self, nums: list[int]) -> int:\n",
    "        uniquenums = []\n",
    "        for i in range(len(nums)-1):\n",
    "            if nums[i] != nums[i+1]:\n",
    "                uniquenums.append(nums[i])\n",
    "        if nums[len(nums)-1] != nums[len(nums)-2]:\n",
    "            uniquenums.append(nums[len(nums)-1])\n",
    "        # print(nums[len(nums)-2])\n",
    "        return len(uniquenums)\n",
    "\n",
    "nums = [0,0,1,1,1,2,2,3,3,4]\n",
    "sol = Solution()\n",
    "sol.removeDuplicates(nums)"
   ]
  },
  {
   "cell_type": "code",
   "execution_count": 143,
   "metadata": {},
   "outputs": [
    {
     "data": {
      "text/plain": [
       "5"
      ]
     },
     "execution_count": 143,
     "metadata": {},
     "output_type": "execute_result"
    }
   ],
   "source": [
    "class Solution():\n",
    "    def removeDuplicates(self, nums: list[int]) -> int:\n",
    "        j=1\n",
    "        for i in range(1,len(nums)):\n",
    "            if nums[i] != nums[i-1]:\n",
    "                nums[j] = nums[i]\n",
    "                j+=1\n",
    "        return(j)\n",
    "\n",
    "nums = [0,0,1,1,1,2,2,3,3,4]\n",
    "sol = Solution()\n",
    "sol.removeDuplicates(nums)"
   ]
  },
  {
   "cell_type": "code",
   "execution_count": 144,
   "metadata": {},
   "outputs": [
    {
     "data": {
      "text/plain": [
       "5"
      ]
     },
     "execution_count": 144,
     "metadata": {},
     "output_type": "execute_result"
    }
   ],
   "source": [
    "class Solution():\n",
    "    def removeDuplicates(self, nums: list[int]) -> int:\n",
    "        setn = set(nums)\n",
    "        nums.clear()\n",
    "        nums.extend(sorted(setn))\n",
    "        return len(nums)\n",
    "    \n",
    "nums = [0,0,1,1,1,2,2,3,3,4]\n",
    "sol = Solution()\n",
    "sol.removeDuplicates(nums)"
   ]
  }
 ],
 "metadata": {
  "kernelspec": {
   "display_name": "Python 3",
   "language": "python",
   "name": "python3"
  },
  "language_info": {
   "codemirror_mode": {
    "name": "ipython",
    "version": 3
   },
   "file_extension": ".py",
   "mimetype": "text/x-python",
   "name": "python",
   "nbconvert_exporter": "python",
   "pygments_lexer": "ipython3",
   "version": "3.11.2"
  }
 },
 "nbformat": 4,
 "nbformat_minor": 2
}
