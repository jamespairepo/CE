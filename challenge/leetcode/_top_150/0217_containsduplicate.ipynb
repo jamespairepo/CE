{
 "cells": [
  {
   "cell_type": "code",
   "execution_count": 13,
   "metadata": {},
   "outputs": [
    {
     "name": "stdout",
     "output_type": "stream",
     "text": [
      "True\n"
     ]
    }
   ],
   "source": [
    "class Solution:\n",
    "    def containsDuplicate(self, nums: list[int]) -> bool:\n",
    "        duplicate = set()\n",
    "        for i in nums:\n",
    "            if i in duplicate:\n",
    "                return True\n",
    "            duplicate.add(i)\n",
    "        return False\n",
    "\n",
    "nums = [1,2,3,1]\n",
    "sol = Solution()\n",
    "print(sol.containsDuplicate(nums))"
   ]
  },
  {
   "cell_type": "code",
   "execution_count": 12,
   "metadata": {},
   "outputs": [
    {
     "name": "stdout",
     "output_type": "stream",
     "text": [
      "True\n"
     ]
    }
   ],
   "source": [
    "class Solution:\n",
    "    def containsDuplicate(self, nums: list[int]) -> bool:\n",
    "        for i in nums:\n",
    "            if nums.count(i) >= 2:\n",
    "                return True\n",
    "\n",
    "nums = [1,2,3,1]\n",
    "sol = Solution()\n",
    "print(sol.containsDuplicate(nums))"
   ]
  }
 ],
 "metadata": {
  "kernelspec": {
   "display_name": "Python 3",
   "language": "python",
   "name": "python3"
  },
  "language_info": {
   "codemirror_mode": {
    "name": "ipython",
    "version": 3
   },
   "file_extension": ".py",
   "mimetype": "text/x-python",
   "name": "python",
   "nbconvert_exporter": "python",
   "pygments_lexer": "ipython3",
   "version": "3.11.2"
  }
 },
 "nbformat": 4,
 "nbformat_minor": 2
}
