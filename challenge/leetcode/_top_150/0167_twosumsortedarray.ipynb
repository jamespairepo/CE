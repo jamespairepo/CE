{
 "cells": [
  {
   "cell_type": "code",
   "execution_count": 6,
   "metadata": {},
   "outputs": [
    {
     "name": "stdout",
     "output_type": "stream",
     "text": [
      "[1, 2]\n"
     ]
    }
   ],
   "source": [
    "from typing import List\n",
    "\n",
    "class Solution:\n",
    "    def twoSum(self, nums: List[int], target: int) -> List[int]:\n",
    "        l, r = 0, len(nums) - 1\n",
    "        while l < r:\n",
    "            if target < nums[l] + nums[r]:\n",
    "                r -= 1\n",
    "            elif target > nums[l] + nums[r]:\n",
    "                l += 1\n",
    "            else:\n",
    "                return [l+1, r+1]\n",
    "\n",
    "numsasc = [2,7,11,15]\n",
    "target = 9\n",
    "sol = Solution()\n",
    "print(sol.twoSum(numsasc, target)) # [1,2] or [2,1]"
   ]
  }
 ],
 "metadata": {
  "kernelspec": {
   "display_name": "base",
   "language": "python",
   "name": "python3"
  },
  "language_info": {
   "codemirror_mode": {
    "name": "ipython",
    "version": 3
   },
   "file_extension": ".py",
   "mimetype": "text/x-python",
   "name": "python",
   "nbconvert_exporter": "python",
   "pygments_lexer": "ipython3",
   "version": "3.11.5"
  }
 },
 "nbformat": 4,
 "nbformat_minor": 2
}
