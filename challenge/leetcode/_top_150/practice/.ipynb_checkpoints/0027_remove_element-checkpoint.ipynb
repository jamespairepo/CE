{
 "cells": [
  {
   "cell_type": "code",
   "execution_count": 1,
   "metadata": {},
   "outputs": [
    {
     "name": "stdout",
     "output_type": "stream",
     "text": [
      "[3, 3]\n",
      "[3, 3]\n"
     ]
    }
   ],
   "source": [
    "#   27. Remove Element\n",
    "\n",
    "from typing import List\n",
    "\n",
    "class Solution:\n",
    "    def removeElement(self, nums: List[int], val: int) -> int:\n",
    "        nums[:] = [x for x in nums if x != val]\n",
    "        print(nums)\n",
    "                \n",
    "nums = [3,2,2,3]\n",
    "val = 2\n",
    "\n",
    "sol = Solution()\n",
    "sol.removeElement(nums, val)\n",
    "\n",
    "print(nums)\n",
    "\n",
    "# Explanation:\n",
    "\n",
    "# nums[:] = [x for x in nums if x != val] updates the list nums in place with the new filtered list. This ensures that the changes are reflected outside the function definition as well.\n",
    "# The function returns the new length of the list, although it's not necessary for updating nums in place.\n",
    "# By using nums[:], you are modifying the original list nums rather than creating a new list."
   ]
  }
 ],
 "metadata": {
  "kernelspec": {
   "display_name": "Python 3",
   "language": "python",
   "name": "python3"
  },
  "language_info": {
   "codemirror_mode": {
    "name": "ipython",
    "version": 3
   },
   "file_extension": ".py",
   "mimetype": "text/x-python",
   "name": "python",
   "nbconvert_exporter": "python",
   "pygments_lexer": "ipython3",
   "version": "3.12.2"
  }
 },
 "nbformat": 4,
 "nbformat_minor": 2
}
