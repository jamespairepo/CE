{
 "cells": [
  {
   "cell_type": "code",
   "execution_count": 6,
   "metadata": {},
   "outputs": [],
   "source": [
    "from typing import List\n",
    "\n",
    "class Solution:\n",
    "    def minEatingSpeed(self, piles: List[int], h: int) -> int:\n",
    "        ###what the question is asking for:\n",
    "        #The question is asking to find the minimum eating speed (bananas per hour) that allows Koko to eat all bananas \n",
    "        #from all piles within the given number of hours (h). The eating speed must be an integer value.\n",
    "\n",
    "        ###Any edge cases that could be possible:\n",
    "        #Koko can eat all piles in less than h hours if her eating speed is very high.\n",
    "        #There is only one pile, which simplifies the calculation.\n",
    "        #The optimal eating speed results in Koko finishing exactly when the guards return.\n",
    "\n",
    "        #Brute force solution:\n",
    "        #A brute force approach would involve starting from an eating speed of 1 and increasing until Koko can finish all bananas within h hours.\n",
    "\n",
    "        \n",
    "            # The minimum possible speed is 1, maximum is max(piles) as Koko could eat the largest pile in one hour\n",
    "            left, right = 1, max(piles)\n",
    "            \n",
    "            while left < right:\n",
    "                mid = (left + right) // 2\n",
    "                hours_spent = sum((pile + mid - 1) // mid for pile in piles)  # Total hours needed at this speed\n",
    "                \n",
    "                if hours_spent > h:  # Too slow, need higher speed\n",
    "                    left = mid + 1\n",
    "                else:  # Could be too fast, try slower speed but keep this as possible answer\n",
    "                    right = mid\n",
    "            return left  # Or right, since they will meet\n",
    "\n",
    "        \n",
    "        #Time complexity of it:\n",
    "        #The time complexity is O(n log k), where n is the number of piles and k is the range of possible eating speeds (since we apply binary search over this range).\n",
    "\n"
   ]
  },
  {
   "cell_type": "code",
   "execution_count": 5,
   "metadata": {},
   "outputs": [],
   "source": [
    "from typing import List\n",
    "\n",
    "class Solution:\n",
    "    def minEatingSpeed(self, piles: List[int], h: int) -> int:\n",
    "            # Function to calculate the hours taken to eat all bananas at speed k\n",
    "        def hours_to_eat(k):\n",
    "            hours = 0\n",
    "            for pile in piles:\n",
    "                hours += -(-pile // k)  # Equivalent to ceil(pile / k)\n",
    "            return hours\n",
    "\n",
    "        low, high = 1, max(piles)\n",
    "        while low < high:\n",
    "            mid = (low + high) // 2\n",
    "            if hours_to_eat(mid) <= h:\n",
    "                high = mid\n",
    "            else:\n",
    "                low = mid + 1\n",
    "        return low"
   ]
  },
  {
   "cell_type": "code",
   "execution_count": 7,
   "metadata": {},
   "outputs": [],
   "source": [
    "import math\n",
    "\n",
    "class Solution:\n",
    "    def minEatingSpeed(self, piles: List[int], h: int) -> int:\n",
    "        l, r= 1, max(piles)\n",
    "        res= max(piles)\n",
    "\n",
    "        while l<=r:\n",
    "            k= (l+r)//2\n",
    "            hours= 0\n",
    "            for p in piles:\n",
    "\n",
    "                hours += math.ceil(p/k)\n",
    "\n",
    "            if hours<= h:\n",
    "                res= min(res, k)\n",
    "                r= k-1\n",
    "            else:\n",
    "                l= k+1\n",
    "\n",
    "        return res"
   ]
  },
  {
   "cell_type": "code",
   "execution_count": null,
   "metadata": {},
   "outputs": [],
   "source": [
    "import math \n",
    "\n",
    "class Solution:\n",
    "    def minEatingSpeed(self, piles: List[int], h: int) -> int:\n",
    "        left = math.ceil(sum(piles) / h) # lower bound of Binary Search \n",
    "        right = max(piles) # upper bound of Binary Search \n",
    "        while left < right:\n",
    "            mid = (left + right) // 2 # we check for k=mid\n",
    "            total_time = 0\n",
    "            for i in piles:\n",
    "                total_time += math.ceil(i / mid)\n",
    "                if total_time > h:\n",
    "                    break\n",
    "            if total_time <= h:\n",
    "                right = mid # answer must lie to the left half (inclusive of current value ie mid)\n",
    "            else:\n",
    "                left = mid + 1 # answer must lie to the right half (exclusive of current value ie mid)\n",
    "        return right"
   ]
  }
 ],
 "metadata": {
  "kernelspec": {
   "display_name": "base",
   "language": "python",
   "name": "python3"
  },
  "language_info": {
   "codemirror_mode": {
    "name": "ipython",
    "version": 3
   },
   "file_extension": ".py",
   "mimetype": "text/x-python",
   "name": "python",
   "nbconvert_exporter": "python",
   "pygments_lexer": "ipython3",
   "version": "3.11.5"
  }
 },
 "nbformat": 4,
 "nbformat_minor": 2
}
