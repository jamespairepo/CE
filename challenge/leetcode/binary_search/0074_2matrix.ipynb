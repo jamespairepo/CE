{
 "cells": [
  {
   "cell_type": "code",
   "execution_count": 10,
   "metadata": {},
   "outputs": [
    {
     "name": "stdout",
     "output_type": "stream",
     "text": [
      "True\n"
     ]
    }
   ],
   "source": [
    "from typing import List\n",
    "\n",
    "class Solution:\n",
    "    def searchMatrix(self, matrix: List[List[int]], target: int) -> bool:\n",
    "        for i in range(len(matrix)-1,-1,-1):\n",
    "            # print(len(matrix))\n",
    "            # search = False\n",
    "            if matrix[i][0] > target:\n",
    "                continue\n",
    "\n",
    "            left, right = 0, len(matrix[i]) - 1\n",
    "            while left <= right:\n",
    "                mid = left + (right - left) // 2\n",
    "                if matrix[i][mid] == target:\n",
    "                    return True\n",
    "                elif matrix[i][mid] < target:\n",
    "                    left = mid + 1\n",
    "                else:\n",
    "                    right = mid - 1\n",
    "        return False\n",
    "\n",
    "\n",
    "sol = Solution()\n",
    "matrix = [[1,3,5,7],[10,11,16,20],[23,30,34,60]]\n",
    "target = 3\n",
    "print(sol.searchMatrix(matrix, target))"
   ]
  },
  {
   "cell_type": "code",
   "execution_count": 20,
   "metadata": {},
   "outputs": [
    {
     "name": "stdout",
     "output_type": "stream",
     "text": [
      "bor\n",
      "hini\n",
      "lamborg\n"
     ]
    }
   ],
   "source": [
    "car_make = 'lamborghini'\n",
    "print(car_make[3:-5])\n",
    "print(car_make[-4:])\n",
    "print(car_make[:7])"
   ]
  }
 ],
 "metadata": {
  "kernelspec": {
   "display_name": "base",
   "language": "python",
   "name": "python3"
  },
  "language_info": {
   "codemirror_mode": {
    "name": "ipython",
    "version": 3
   },
   "file_extension": ".py",
   "mimetype": "text/x-python",
   "name": "python",
   "nbconvert_exporter": "python",
   "pygments_lexer": "ipython3",
   "version": "3.11.5"
  }
 },
 "nbformat": 4,
 "nbformat_minor": 2
}
