{
 "cells": [
  {
   "cell_type": "code",
   "execution_count": 35,
   "metadata": {},
   "outputs": [
    {
     "name": "stdout",
     "output_type": "stream",
     "text": [
      "2\n"
     ]
    }
   ],
   "source": [
    "def favorite_count(int, arr):\n",
    "    highest_count = 0\n",
    "    total_tied = []\n",
    "    for i in arr:\n",
    "        if arr.count(i) > highest_count:\n",
    "            highest_count = arr.count(i)\n",
    "    for i in arr:\n",
    "        if arr.count(i) == highest_count:\n",
    "            total_tied.append(i)\n",
    "    return len(set(total_tied))\n",
    "\n",
    "resulta = favorite_count(input(), input().split(' '))\n",
    "print(resulta)\n",
    "# result = favorite_count([1,1,2,2,4])\n",
    "# print(result) # 2\n",
    "# result2 = favorite_count([1,1,2,2,4,4])\n",
    "# print(result2) # 4"
   ]
  },
  {
   "cell_type": "code",
   "execution_count": 37,
   "metadata": {},
   "outputs": [
    {
     "name": "stdout",
     "output_type": "stream",
     "text": [
      "2\n"
     ]
    }
   ],
   "source": [
    "def favorite_count(int, arr):\n",
    "    dict = {}\n",
    "    for i in arr:\n",
    "        if i in dict:\n",
    "            dict[i] += 1\n",
    "        else:\n",
    "            dict[i] = 1\n",
    "    highest_count = max(dict.values())\n",
    "    # how many times highest count appears\n",
    "    return list(dict.values()).count(highest_count)\n",
    "\n",
    "result = favorite_count(input(), input().split(' '))\n",
    "print(result)"
   ]
  }
 ],
 "metadata": {
  "kernelspec": {
   "display_name": "base",
   "language": "python",
   "name": "python3"
  },
  "language_info": {
   "codemirror_mode": {
    "name": "ipython",
    "version": 3
   },
   "file_extension": ".py",
   "mimetype": "text/x-python",
   "name": "python",
   "nbconvert_exporter": "python",
   "pygments_lexer": "ipython3",
   "version": "3.11.5"
  }
 },
 "nbformat": 4,
 "nbformat_minor": 2
}
